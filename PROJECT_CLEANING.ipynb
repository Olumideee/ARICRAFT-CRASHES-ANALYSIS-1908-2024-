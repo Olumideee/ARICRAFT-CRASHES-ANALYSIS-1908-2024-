{
 "cells": [
  {
   "cell_type": "code",
   "execution_count": 17,
   "id": "9abc43df-c057-4b05-8af7-1f28746c8808",
   "metadata": {},
   "outputs": [],
   "source": [
    "import seaborn as sns\n",
    "import pandas as pd\n",
    "import matplotlib.pyplot as plt \n",
    "import statistics as st\n",
    "import numpy as np"
   ]
  },
  {
   "cell_type": "code",
   "execution_count": 19,
   "id": "8f746e77-eb00-4d9a-804a-f0afad0b243b",
   "metadata": {},
   "outputs": [
    {
     "data": {
      "text/html": [
       "<div>\n",
       "<style scoped>\n",
       "    .dataframe tbody tr th:only-of-type {\n",
       "        vertical-align: middle;\n",
       "    }\n",
       "\n",
       "    .dataframe tbody tr th {\n",
       "        vertical-align: top;\n",
       "    }\n",
       "\n",
       "    .dataframe thead th {\n",
       "        text-align: right;\n",
       "    }\n",
       "</style>\n",
       "<table border=\"1\" class=\"dataframe\">\n",
       "  <thead>\n",
       "    <tr style=\"text-align: right;\">\n",
       "      <th></th>\n",
       "      <th>Year</th>\n",
       "      <th>Quarter</th>\n",
       "      <th>Month</th>\n",
       "      <th>Day</th>\n",
       "      <th>Country/Region</th>\n",
       "      <th>Aircraft Manufacturer</th>\n",
       "      <th>Aircraft</th>\n",
       "      <th>Location</th>\n",
       "      <th>Operator</th>\n",
       "      <th>Ground</th>\n",
       "      <th>Fatalities (air)</th>\n",
       "      <th>Aboard</th>\n",
       "    </tr>\n",
       "  </thead>\n",
       "  <tbody>\n",
       "    <tr>\n",
       "      <th>0</th>\n",
       "      <td>1970</td>\n",
       "      <td>Qtr 2</td>\n",
       "      <td>April</td>\n",
       "      <td>28</td>\n",
       "      <td>NaN</td>\n",
       "      <td>de Havilland Canada</td>\n",
       "      <td>de Havilland Canada DHC 6 Twin Otter 100VH</td>\n",
       "      <td>Kainatu</td>\n",
       "      <td>Airlines Australia GuineaTrans New</td>\n",
       "      <td>0</td>\n",
       "      <td>8</td>\n",
       "      <td>11</td>\n",
       "    </tr>\n",
       "    <tr>\n",
       "      <th>1</th>\n",
       "      <td>1952</td>\n",
       "      <td>Qtr 2</td>\n",
       "      <td>April</td>\n",
       "      <td>30</td>\n",
       "      <td>NaN</td>\n",
       "      <td>Douglas</td>\n",
       "      <td>Douglas DC 3VT</td>\n",
       "      <td>Delhi</td>\n",
       "      <td>Airways IndiaDeccan</td>\n",
       "      <td>0</td>\n",
       "      <td>9</td>\n",
       "      <td>9</td>\n",
       "    </tr>\n",
       "    <tr>\n",
       "      <th>2</th>\n",
       "      <td>1973</td>\n",
       "      <td>Qtr 2</td>\n",
       "      <td>April</td>\n",
       "      <td>10</td>\n",
       "      <td>NaN</td>\n",
       "      <td>Vickers Vanguard</td>\n",
       "      <td>Vickers Vanguard 952G AXOP</td>\n",
       "      <td>Near Basel</td>\n",
       "      <td>(UK) Airlines International SwitzerlandInvicta</td>\n",
       "      <td>0</td>\n",
       "      <td>108</td>\n",
       "      <td>145</td>\n",
       "    </tr>\n",
       "  </tbody>\n",
       "</table>\n",
       "</div>"
      ],
      "text/plain": [
       "   Year Quarter  Month  Day Country/Region Aircraft Manufacturer  \\\n",
       "0  1970   Qtr 2  April   28            NaN   de Havilland Canada   \n",
       "1  1952   Qtr 2  April   30            NaN               Douglas   \n",
       "2  1973   Qtr 2  April   10            NaN      Vickers Vanguard   \n",
       "\n",
       "                                     Aircraft    Location  \\\n",
       "0  de Havilland Canada DHC 6 Twin Otter 100VH     Kainatu   \n",
       "1                              Douglas DC 3VT       Delhi   \n",
       "2                  Vickers Vanguard 952G AXOP  Near Basel   \n",
       "\n",
       "                                         Operator  Ground  Fatalities (air)  \\\n",
       "0              Airlines Australia GuineaTrans New       0                 8   \n",
       "1                             Airways IndiaDeccan       0                 9   \n",
       "2  (UK) Airlines International SwitzerlandInvicta       0               108   \n",
       "\n",
       "   Aboard  \n",
       "0      11  \n",
       "1       9  \n",
       "2     145  "
      ]
     },
     "execution_count": 19,
     "metadata": {},
     "output_type": "execute_result"
    }
   ],
   "source": [
    "df = pd.read_csv(\"C:/Users/USER/python/dataapps2/aircrahesFullDataUpdated_2024.csv\")\n",
    "df.head(3)"
   ]
  },
  {
   "cell_type": "code",
   "execution_count": 21,
   "id": "1a4b8558-a62b-4098-aaff-71372bf95b59",
   "metadata": {},
   "outputs": [
    {
     "data": {
      "text/plain": [
       "(5035, 12)"
      ]
     },
     "execution_count": 21,
     "metadata": {},
     "output_type": "execute_result"
    }
   ],
   "source": [
    "df.shape"
   ]
  },
  {
   "cell_type": "code",
   "execution_count": 23,
   "id": "5bd54ac1-c5fe-4f65-803b-5b47a816378f",
   "metadata": {},
   "outputs": [
    {
     "data": {
      "text/plain": [
       "60420"
      ]
     },
     "execution_count": 23,
     "metadata": {},
     "output_type": "execute_result"
    }
   ],
   "source": [
    "df.size"
   ]
  },
  {
   "cell_type": "code",
   "execution_count": 25,
   "id": "91e448ea-903e-4c62-a809-3e038ef79cbc",
   "metadata": {},
   "outputs": [
    {
     "data": {
      "text/plain": [
       "Index(['Year', 'Quarter', 'Month', 'Day', 'Country/Region',\n",
       "       'Aircraft Manufacturer', 'Aircraft', 'Location', 'Operator', 'Ground',\n",
       "       'Fatalities (air)', 'Aboard'],\n",
       "      dtype='object')"
      ]
     },
     "execution_count": 25,
     "metadata": {},
     "output_type": "execute_result"
    }
   ],
   "source": [
    "df.columns"
   ]
  },
  {
   "cell_type": "code",
   "execution_count": 27,
   "id": "35cb6430-3d08-45fd-ba44-f7e95e5e2275",
   "metadata": {},
   "outputs": [
    {
     "data": {
      "text/plain": [
       "Year                       0\n",
       "Quarter                    0\n",
       "Month                      0\n",
       "Day                        0\n",
       "Country/Region           230\n",
       "Aircraft Manufacturer      0\n",
       "Aircraft                   0\n",
       "Location                   0\n",
       "Operator                 234\n",
       "Ground                     0\n",
       "Fatalities (air)           0\n",
       "Aboard                     0\n",
       "dtype: int64"
      ]
     },
     "execution_count": 27,
     "metadata": {},
     "output_type": "execute_result"
    }
   ],
   "source": [
    "df.isnull().sum()"
   ]
  },
  {
   "cell_type": "code",
   "execution_count": 29,
   "id": "94951169-23a2-44ad-a8bc-2395c9ccc4f8",
   "metadata": {},
   "outputs": [
    {
     "data": {
      "text/plain": [
       "Country/Region\n",
       "Russia                249\n",
       "Brazil                162\n",
       "Colombia              146\n",
       "New                   142\n",
       "California            112\n",
       "                     ... \n",
       "Lochgoilhead            1\n",
       "Lombok                  1\n",
       "Marine                  1\n",
       "Minnesota46826/109      1\n",
       "Zabul                   1\n",
       "Name: count, Length: 527, dtype: int64"
      ]
     },
     "execution_count": 29,
     "metadata": {},
     "output_type": "execute_result"
    }
   ],
   "source": [
    "df[\"Country/Region\"].value_counts()"
   ]
  },
  {
   "cell_type": "code",
   "execution_count": 33,
   "id": "0cd07af7-25ac-49a7-b502-47fe3c3dd880",
   "metadata": {},
   "outputs": [],
   "source": [
    "df[\"Country/Region\"].fillna(\"N/A\", inplace=True)"
   ]
  },
  {
   "cell_type": "code",
   "execution_count": 35,
   "id": "075c0b8b-8c48-480a-9a93-f1721f7b26a2",
   "metadata": {},
   "outputs": [
    {
     "data": {
      "text/plain": [
       "Year                       0\n",
       "Quarter                    0\n",
       "Month                      0\n",
       "Day                        0\n",
       "Country/Region             0\n",
       "Aircraft Manufacturer      0\n",
       "Aircraft                   0\n",
       "Location                   0\n",
       "Operator                 234\n",
       "Ground                     0\n",
       "Fatalities (air)           0\n",
       "Aboard                     0\n",
       "dtype: int64"
      ]
     },
     "execution_count": 35,
     "metadata": {},
     "output_type": "execute_result"
    }
   ],
   "source": [
    "df.isnull().sum()"
   ]
  },
  {
   "cell_type": "code",
   "execution_count": 39,
   "id": "f10b0e86-39f0-4daa-8661-521280e1325f",
   "metadata": {},
   "outputs": [],
   "source": [
    "df[\"Operator\"].fillna(\"N/A\", inplace=True)"
   ]
  },
  {
   "cell_type": "code",
   "execution_count": 41,
   "id": "d97c401f-2616-4eeb-95f8-eafaf1dd87cc",
   "metadata": {},
   "outputs": [
    {
     "data": {
      "text/plain": [
       "Year                     0\n",
       "Quarter                  0\n",
       "Month                    0\n",
       "Day                      0\n",
       "Country/Region           0\n",
       "Aircraft Manufacturer    0\n",
       "Aircraft                 0\n",
       "Location                 0\n",
       "Operator                 0\n",
       "Ground                   0\n",
       "Fatalities (air)         0\n",
       "Aboard                   0\n",
       "dtype: int64"
      ]
     },
     "execution_count": 41,
     "metadata": {},
     "output_type": "execute_result"
    }
   ],
   "source": [
    "df.isnull().sum()"
   ]
  },
  {
   "cell_type": "code",
   "execution_count": 43,
   "id": "a71900a7-85c1-4a1b-8d3b-1242c4734478",
   "metadata": {},
   "outputs": [
    {
     "data": {
      "text/plain": [
       "Index(['Year', 'Quarter', 'Month', 'Day', 'Country/Region',\n",
       "       'Aircraft Manufacturer', 'Aircraft', 'Location', 'Operator', 'Ground',\n",
       "       'Fatalities (air)', 'Aboard'],\n",
       "      dtype='object')"
      ]
     },
     "execution_count": 43,
     "metadata": {},
     "output_type": "execute_result"
    }
   ],
   "source": [
    "df.columns"
   ]
  },
  {
   "cell_type": "code",
   "execution_count": 45,
   "id": "9e5850de-2cab-43dc-a793-5558d4df3932",
   "metadata": {},
   "outputs": [],
   "source": [
    "# cleaning of the Year column "
   ]
  },
  {
   "cell_type": "code",
   "execution_count": 47,
   "id": "57ed68da-94e1-4e95-bfc0-39fd0ed6e1ab",
   "metadata": {},
   "outputs": [
    {
     "data": {
      "text/plain": [
       "array([1970, 1952, 1973, 2000, 1946, 1960, 2024, 1958, 1997, 1988, 1993,\n",
       "       2006, 2013, 1994, 1956, 1976, 1983, 1964, 1982, 1944, 1957, 1967,\n",
       "       2018, 2001, 1954, 1985, 1921, 1945, 1942, 2008, 1966, 1969, 1974,\n",
       "       1981, 1980, 1953, 1984, 1999, 1972, 2011, 1947, 1933, 1992, 1929,\n",
       "       1979, 1955, 1991, 1965, 2007, 1961, 1968, 2019, 1934, 1922, 1989,\n",
       "       2002, 2012, 1998, 1986, 1978, 1950, 1962, 1977, 1951, 1996, 2009,\n",
       "       1990, 2014, 1935, 1936, 1927, 1931, 1948, 1932, 2005, 1987, 1938,\n",
       "       2010, 1959, 1939, 1924, 1943, 1918, 1971, 1920, 1930, 1995, 1963,\n",
       "       2016, 1949, 1940, 1975, 1925, 1928, 2004, 2003, 1937, 1941, 1913,\n",
       "       2020, 2015, 1919, 1926, 1917, 1923, 2021, 2017, 2023, 1916, 2022,\n",
       "       1912, 1915, 1909, 1908], dtype=int64)"
      ]
     },
     "execution_count": 47,
     "metadata": {},
     "output_type": "execute_result"
    }
   ],
   "source": [
    "df.Year.unique()"
   ]
  },
  {
   "cell_type": "code",
   "execution_count": 49,
   "id": "71b37c33-c65d-468d-91ef-2bec67996996",
   "metadata": {},
   "outputs": [],
   "source": [
    "# there was nothing to clean in the Year column \n",
    "# the  Year column is clean "
   ]
  },
  {
   "cell_type": "code",
   "execution_count": 51,
   "id": "09055d44-577f-4d91-b393-f7eb2b1f2491",
   "metadata": {},
   "outputs": [],
   "source": [
    "# cleaning of the Quater column "
   ]
  },
  {
   "cell_type": "code",
   "execution_count": 53,
   "id": "279e7006-4ddb-4d1c-bb3f-0839643d3ae6",
   "metadata": {},
   "outputs": [
    {
     "data": {
      "text/plain": [
       "array(['Qtr 2', 'Qtr 3', 'Qtr 4', 'Qtr 1'], dtype=object)"
      ]
     },
     "execution_count": 53,
     "metadata": {},
     "output_type": "execute_result"
    }
   ],
   "source": [
    "df.Quarter.unique()"
   ]
  },
  {
   "cell_type": "code",
   "execution_count": 55,
   "id": "01c49c40-a52e-418a-a2fa-b58a66abb96f",
   "metadata": {},
   "outputs": [],
   "source": [
    "# there was nothing to clean in the Quarter column \n",
    "# the Quarter clumn is clean "
   ]
  },
  {
   "cell_type": "code",
   "execution_count": 57,
   "id": "0fa8e795-b27c-420f-bf9f-34ebb472c541",
   "metadata": {},
   "outputs": [],
   "source": [
    "# cleaning of the month column "
   ]
  },
  {
   "cell_type": "code",
   "execution_count": 59,
   "id": "05b3db98-3d5c-4f0e-bd10-22d0cd00d8cd",
   "metadata": {},
   "outputs": [
    {
     "data": {
      "text/plain": [
       "array(['April', 'August', 'December', 'February', 'January', 'July',\n",
       "       'June', 'March', 'May', 'November', 'October', 'September'],\n",
       "      dtype=object)"
      ]
     },
     "execution_count": 59,
     "metadata": {},
     "output_type": "execute_result"
    }
   ],
   "source": [
    "df.Month.unique()"
   ]
  },
  {
   "cell_type": "code",
   "execution_count": 61,
   "id": "7a3c7089-fd46-443b-9c3b-fb76bff07a00",
   "metadata": {},
   "outputs": [],
   "source": [
    "# there was nothing to clean in the Month column \n",
    "# the Month column is clean "
   ]
  },
  {
   "cell_type": "code",
   "execution_count": 63,
   "id": "68263fa7-d6a5-4448-a9a3-22158c1dbdc6",
   "metadata": {},
   "outputs": [],
   "source": [
    "# cleaning of the day column"
   ]
  },
  {
   "cell_type": "code",
   "execution_count": 65,
   "id": "bd4484f4-ca3b-4217-8f8e-759ffeb2c498",
   "metadata": {},
   "outputs": [
    {
     "data": {
      "text/plain": [
       "array([28, 30, 10, 19, 14, 23, 21, 27, 24, 29, 18, 26,  9,  5,  7, 17, 11,\n",
       "        6,  8, 15,  2, 22, 20,  4, 12, 25, 13,  3, 16,  1, 31],\n",
       "      dtype=int64)"
      ]
     },
     "execution_count": 65,
     "metadata": {},
     "output_type": "execute_result"
    }
   ],
   "source": [
    "df.Day.unique()"
   ]
  },
  {
   "cell_type": "code",
   "execution_count": 67,
   "id": "1caa5f44-6392-4926-8f78-5957fae32b1c",
   "metadata": {},
   "outputs": [],
   "source": [
    "# there was nothing to clean in the Day column \n",
    "# the Day column is clean "
   ]
  },
  {
   "cell_type": "code",
   "execution_count": 69,
   "id": "b0742653-ad95-4838-ae1f-843090ba760e",
   "metadata": {},
   "outputs": [],
   "source": [
    "df.loc[:, \"Country/Region\"] = df[\"Country/Region\"].str.replace(\"10\", \"N/A\")"
   ]
  },
  {
   "cell_type": "code",
   "execution_count": 71,
   "id": "7e018f7c-22af-4cbc-8454-dc7eec887bb8",
   "metadata": {},
   "outputs": [],
   "source": [
    "df.loc[:, \"Country/Region\"] = df[\"Country/Region\"].str.replace(\"'-\", \"N/A\")"
   ]
  },
  {
   "cell_type": "code",
   "execution_count": 73,
   "id": "058c50e0-303b-4a95-8d87-3da374dd9d6f",
   "metadata": {},
   "outputs": [],
   "source": [
    "df[\"Country/Region\"] = df[\"Country/Region\"].replace([\"Brazil\\tAmazonaves\", \"Brazil\\r\\nFlorianopolis\", \"Brazil\\tLoide\"], \"Brazil\")\n",
    "df.loc[:, \"Country/Region\"] = df[\"Country/Region\"].str.replace(\"Chile\\tAerolineas\", \"Brazil\")\n",
    "df.loc[:, \"Country/Region\"] = df[\"Country/Region\"].str.replace(\"USSRAerflot\", \"N/A\")\n",
    "df.loc[:, \"Country/Region\"] = df[\"Country/Region\"].str.replace(\"Western\", \"N/A\")\n",
    "df.loc[:, \"Country/Region\"] = df[\"Country/Region\"].str.replace(\"Bias\", \"N/A\")\n"
   ]
  },
  {
   "cell_type": "code",
   "execution_count": 75,
   "id": "06c0a5f7-da53-4f9e-a81b-2ddba9290c5b",
   "metadata": {},
   "outputs": [],
   "source": [
    "df.loc[:, \"Country/Region\"] = df[\"Country/Region\"].str.replace(\"18\", \"N/A\")\n",
    "df.loc[:, \"Country/Region\"] = df[\"Country/Region\"].str.replace(\"570\", \"N/A\")\n",
    "df.loc[:, \"Country/Region\"] = df[\"Country/Region\"].str.replace(\"800\", \"N/A\")\n",
    "df.loc[:, \"Country/Region\"] = df[\"Country/Region\"].str.replace(\"near\", \"N/A\")\n",
    "df.loc[:, \"Country/Region\"] = df[\"Country/Region\"].str.replace(\"USSRAeroflot\", \"N/A\")\n",
    "df.loc[:, \"Country/Region\"] = df[\"Country/Region\"].str.replace(\"unknown0\", \"N/A\")\n",
    "df.loc[:, \"Country/Region\"] = df[\"Country/Region\"].str.replace(\"San\", \"N/A\")\n",
    "df.loc[:, \"Country/Region\"] = df[\"Country/Region\"].str.replace(\"Spain\\r\\n\\t\\r\\nMoron\", \"Spain\")\n",
    "df.loc[:, \"Country/Region\"] = df[\"Country/Region\"].str.replace(\"United\", \"U.S.A\")\n",
    "df.loc[:, \"Country/Region\"] = df[\"Country/Region\"].str.replace(\"Upper\", \"N/A\")\n",
    "df.loc[:, \"Country/Region\"] = df[\"Country/Region\"].str.replace(\"HIPan\", \"N/A\")\n",
    "df.loc[:, \"Country/Region\"] = df[\"Country/Region\"].str.replace(\"Indonesia\\r\\n\\t\\r\\nSarmi\", \"Indonesia\")\n",
    "df.loc[:, \"Country/Region\"] = df[\"Country/Region\"].str.replace(\"Los\", \"N/A\")\n",
    "df.loc[:, \"Country/Region\"] = df[\"Country/Region\"].str.replace(\"Margarita\", \"N/A\")\n",
    "df.loc[:, \"Country/Region\"] = df[\"Country/Region\"].str.replace(\"qld\", \"Queensland\")\n",
    "df.loc[:, \"Country/Region\"] = df[\"Country/Region\"].str.replace(\"Qld\", \"Queensland\")\n",
    "df.loc[:, \"Country/Region\"] = df[\"Country/Region\"].str.replace(\"1unknown\", \"N/A\")\n",
    "df.loc[:, \"Country/Region\"] = df[\"Country/Region\"].str.replace(\"Azerbaijan\\r\\n\\t\\r\\nBakou\", \"Azerbaijan\")\n",
    "df.loc[:, \"Country/Region\"] = df[\"Country/Region\"].str.replace(\"CADuncan\", \"N/A\")\n",
    "df.loc[:, \"Country/Region\"] = df[\"Country/Region\"].str.replace(\"USSRBalkan\", \"Balkan\")\n",
    "df.loc[:, \"Country/Region\"] = df[\"Country/Region\"].str.replace(\"FL\", \"Florida\")\n",
    "df.loc[:, \"Country/Region\"] = df[\"Country/Region\"].str.replace(\"CAMilitary\", \"N/A\")\n",
    "df.loc[:, \"Country/Region\"] = df[\"Country/Region\"].str.replace(\"Inner\", \"N/A\")\n",
    "df.loc[:, \"Country/Region\"] = df[\"Country/Region\"].str.replace(\"Democtratic\", \"N/A\")\n",
    "df.loc[:, \"Country/Region\"] = df[\"Country/Region\"].str.replace(\"Djibouti\\r\\n\\tDjibouti\", \"Djibouti\")\n",
    "df.loc[:, \"Country/Region\"] = df[\"Country/Region\"].str.replace(\"Tajikistan\\tMilitary\", \"Tajikistan\")\n",
    "df.loc[:, \"Country/Region\"] = df[\"Country/Region\"].str.replace(\"Norway\\tCHC\", \"Norway\")\n",
    "df.loc[:, \"Country/Region\"] = df[\"Country/Region\"].str.replace(\"NYUS\", \"NewYork\")\n",
    "df.loc[:, \"Country/Region\"] = df[\"Country/Region\"].str.replace(\"South-West\", \"unknown\")\n",
    "df.loc[:, \"Country/Region\"] = df[\"Country/Region\"].str.replace(\"Azerbaijan\\r\\n\\t\\r\\nBakou\", \"Azerbaijan\")\n",
    "df['Country/Region'] = df['Country/Region'].replace(['NSW', 'New', 'SK', 'BC', 'PQ', 'San', 'Da', 'WA', 'El', 'PE', 'nsw', 'OLD', 'QC', 'Mt', 'N', 'FL', \"de\", 'ON', 'SK'], 'N/A')\n",
    "df[\"Country/Region\"] = df[\"Country/Region\"].replace([\"Brazil\\tAmazonaves\", \"Brazil\\r\\nFlorianopolis\", \"Brazil\\tLoide\"], \"Brazil\")\n",
    "df.loc[:, \"Country/Region\"] = df[\"Country/Region\"].str.replace(\"Chile\\tAerolineas\", \"Brazil\")\n",
    "df.loc[:, \"Country/Region\"] = df[\"Country/Region\"].str.replace(\"USSRAerflot\", \"N/A\")\n",
    "df.loc[:, \"Country/Region\"] = df[\"Country/Region\"].str.replace(\"Western\", \"N/A\")\n",
    "df.loc[:, \"Country/Region\"] = df[\"Country/Region\"].str.replace(\"Bias\", \"N/A\")"
   ]
  },
  {
   "cell_type": "code",
   "execution_count": 77,
   "id": "432e09b5-cc7f-489a-9962-6b4c2e3b791d",
   "metadata": {},
   "outputs": [],
   "source": [
    "df['Country/Region'] = df['Country/Region'].replace(\"US\", 'U.S.A')\n",
    "df.loc[:, \"Country/Region\"] = df[\"Country/Region\"].str.replace(\"USSRMilitary\", \"N/A\")\n",
    "df.loc[:, \"Country/Region\"] = df[\"Country/Region\"].str.replace(\"SC\", \"N/A\")\n",
    "df.loc[:, \"Country/Region\"] = df[\"Country/Region\"].str.replace(\"?\", \"\")\n",
    "df.loc[:, \"Country/Region\"] = df[\"Country/Region\"].str.replace(\"U.S,ASRMilitary\", \"U.S.A\")"
   ]
  },
  {
   "cell_type": "code",
   "execution_count": 79,
   "id": "1fb1e9cd-7f5a-4efb-a73d-2228fa8b5c83",
   "metadata": {},
   "outputs": [],
   "source": [
    "# the Region/Country column has now been cleaned "
   ]
  },
  {
   "cell_type": "code",
   "execution_count": 81,
   "id": "7fe46494-bb36-47da-b7fa-205657be8e8c",
   "metadata": {},
   "outputs": [],
   "source": [
    "# cleaning of the Aircraft Manufacturer column \n",
    "# some outliers were in the column so i removed them and changed them to unknown \n",
    "# i corrected the spelling of a few of those variables \n",
    "# i changed some from their abbreviated form to their full form "
   ]
  },
  {
   "cell_type": "code",
   "execution_count": 83,
   "id": "fb3add0d-e287-4b78-a44c-6bd942f23a1e",
   "metadata": {},
   "outputs": [],
   "source": [
    "df.loc[:, \"Aircraft Manufacturer\"] = df[\"Aircraft Manufacturer\"].str.replace(\"?\", \"\")\n",
    "df.loc[:, \"Aircraft Manufacturer\"] = df[\"Aircraft Manufacturer\"].str.replace(\"??\", \"N/A\")"
   ]
  },
  {
   "cell_type": "code",
   "execution_count": 85,
   "id": "ee2ff909-f28c-4938-9e41-88add483477e",
   "metadata": {},
   "outputs": [],
   "source": [
    "df['Aircraft Manufacturer'] = df['Aircraft Manufacturer'].replace([\"HS\", \"C\", \"H\", \"A\", \"F\", \"VP\", \"FALSE\", \"CH\", \"Mi\"], 'N/A')"
   ]
  },
  {
   "cell_type": "code",
   "execution_count": 87,
   "id": "be5950eb-5f85-47be-8a85-cb619dcbf5a4",
   "metadata": {},
   "outputs": [],
   "source": [
    "df.loc[:, \"Aircraft Manufacturer\"] = df[\"Aircraft Manufacturer\"].str.replace(\"Doublas\", \"Douglas\")\n",
    "df.loc[:, \"Aircraft Manufacturer\"] = df[\"Aircraft Manufacturer\"].str.replace(\"Short\", \"Short Brothers\")\n",
    "df.loc[:, \"Aircraft Manufacturer\"] = df[\"Aircraft Manufacturer\"].str.replace(\"139\", \"N/A\")\n",
    "df.loc[:, \"Aircraft Manufacturer\"] = df[\"Aircraft Manufacturer\"].str.replace(\"42\", \"N/A\")\n",
    "df.loc[:, \"Aircraft Manufacturer\"] = df[\"Aircraft Manufacturer\"].str.replace(\"Unknown /\", \"N/A\")"
   ]
  },
  {
   "cell_type": "code",
   "execution_count": 89,
   "id": "cb36f750-c29f-4b1d-8e78-61f321227a38",
   "metadata": {},
   "outputs": [],
   "source": [
    "df['Aircraft Manufacturer'] = df['Aircraft Manufacturer'].replace(\"NAMC\", \"Nihon Aircraft Manufacturing Corporation\")\n",
    "df['Aircraft Manufacturer'] = df['Aircraft Manufacturer'].replace(\"Mil\", 'Military')\n",
    "df.loc[:, \"Aircraft Manufacturer\"] = df[\"Aircraft Manufacturer\"].str.replace(\"Swallow\\r\\nSwallow\", \"Swallow\")"
   ]
  },
  {
   "cell_type": "code",
   "execution_count": 91,
   "id": "997c1b2d-beb1-4fad-b32d-9a3e39b6a99e",
   "metadata": {
    "scrolled": true
   },
   "outputs": [
    {
     "data": {
      "text/plain": [
       "array(['de Havilland Canada', 'Douglas', 'Vickers Vanguard', 'Antonov',\n",
       "       'Boeing', 'Airbus', 'Aero Commander', 'Britten', 'Cessna',\n",
       "       'Cessna 208B Caravan', 'Hughes', 'McDonnell Douglas', 'Pilgrim',\n",
       "       'Ilyushin', 'Cessna  208B Grand', 'Hawker Siddeley', 'N/A', 'Avro',\n",
       "       'Lockheed 14', 'Swearingen SA227AC Metroliner', 'Yakovlev',\n",
       "       'Curtiss', 'Military', 'Convair', 'Consolidated',\n",
       "       'Embraer 110EJ Band./Embraer 110P', 'Learjet',\n",
       "       'Nihon Aircraft Manufacturing Corporation', 'Embraer/Piper',\n",
       "       'Lockheed 18', 'Cams', 'Ford', 'Grumman', 'Lockheed',\n",
       "       'De Havilland', 'Pilatus', 'Sikorsky', '', 'Aérospatiale',\n",
       "       'Bell 212FAC', 'Hadley Page 137Jetstream I / Cessna 206N11360 /',\n",
       "       'Canadair', 'Bristol Britannia', 'Fokker', 'Junkers',\n",
       "       'Sud Aviation', 'Vickers Viscount', 'Avro 685 York',\n",
       "       'Avro Shackleton', 'Vickers 610 Viking', 'BAC Super',\n",
       "       'Aerocomp Comp Air', 'Fairchild', 'Farman', 'Dornier',\n",
       "       'de Havilland  Canada', 'Aviation Traders', 'Embraer', 'Focke',\n",
       "       'Fokker FG', 'Messerschmitt', 'Vickers Viking 1B & Soviet',\n",
       "       'Hawker Siddeley Trident', 'Pilatus Britten Norman', 'Beechcraft',\n",
       "       'Swallow', 'Stearman', 'British Aerospace', 'Britten Norman',\n",
       "       'Mitsubishi', 'Lockheed Super', 'B17G Flying',\n",
       "       'de Havilland DH106 Comet', 'OFM', 'Kawasaki', 'Martin',\n",
       "       'Shin Meiwa', 'Vickers Valetta', 'Harbin Yunshuji',\n",
       "       'Vickers Wellington', 'British Aerospace BAe',\n",
       "       'Aerospatiale Caravelle', 'Caudron C.635', 'Bell 205', 'Lisnov',\n",
       "       'Lockheed Hudson', 'Zeppelin', 'Saab', 'Bell', 'Goodyear',\n",
       "       'Short Brothers', 'Stinson Model', 'Lockheed 14 Super',\n",
       "       'Swearingen', 'de Hvilland 89A Dragon',\n",
       "       'Eurocopter EC225LP Super Puma M2+', 'Lockheed 188C',\n",
       "       'Embraer 110P1', 'Piper Aerostar 601 / Bell 412SPN3645D /', 'Let',\n",
       "       'Lockheed 749A', 'Vickers 757', 'ATR', 'Lisunov', 'Tupolev',\n",
       "       'Dassault Falcon', 'Sud Aviation Caravelle',\n",
       "       'Eurocopter AS 332L2 Super Puma', 'Boeing Vertol CH47C', 'Breguet',\n",
       "       'Rohrbach', 'Swearingen SA.227AC Metro', 'General Aviation',\n",
       "       'Handley Page Dart Herald', 'Avro 688 Super', 'Let 410UVP',\n",
       "       'Boeing 377 Stratocruiser', 'Lockheed Martin',\n",
       "       'Lockheed 1049H Super', 'Cessna 208 Grand', 'Reims Aviation',\n",
       "       'Liore et Olivier', 'Avro 691 Lancastrian',\n",
       "       'Aerospatiale AS350 Eurocopter', 'Piper', 'Howard', 'VH',\n",
       "       'de Havilland DH.80 Puss', 'Vickers 804', 'Embraer 120ER',\n",
       "       'Latecoere', 'Sikorsky S43 (flying',\n",
       "       'Supermarine Stranraer (flying', 'Beechcraft C99 / Rockwell',\n",
       "       'Bell 206B', 'MD Douglas', 'CASA', 'Gates Learjet', 'Lockheed 10',\n",
       "       'Bristol 170 Freighter', 'Savoia', 'Armstrong',\n",
       "       'Royal Airship Works', 'Wibault', 'Let 410UVP Turbojet / Tupolev',\n",
       "       'Short Brotherss', 'Vickers 634 Viking', 'Catalina Flying',\n",
       "       'Norman', 'Hindustan Aeronautics 748', 'Pacific', 'HESA', 'UH',\n",
       "       'Caproni', 'Handley Page', 'Macchi', 'Bleriot',\n",
       "       'Consolidated Canso', 'Latecoere 631 (flying', 'Eurocopter',\n",
       "       'Lockheed 10B', 'Stinson', 'Aerospatiale', 'Avro Lancaster',\n",
       "       'Lockheed 10 Electra', 'Lockheed 9', 'Siebel',\n",
       "       'Lockheed Orion 9E Explorer float', 'BAC', 'Lockheed 5',\n",
       "       'Piper Navajo', 'Arava', 'Short Brothers Sandringham (flying',\n",
       "       'Vickers Viking', 'Cessna  501', 'North American',\n",
       "       'Avro 691 Lancastrian (flying', 'Vickers 815',\n",
       "       'Short Brothers Sandringham 5 (flying', 'Lockheed 188A', 'PA',\n",
       "       'Blériot Spad', 'AeroflotL5057', 'Kalinin', 'Lockheed 1049G Super',\n",
       "       'Boeing Vertol CH47B', 'Chance Vought', 'DC', 'Sud', 'Yunshuji',\n",
       "       'Bell Huey', 'Farman F.60', 'LET 410M', 'Cessna 208B Grand',\n",
       "       'Lockheed 10E', 'Embraer 110', 'Sud Aviation SE 210 Caravelle',\n",
       "       'Boeing Vertol', 'Bristol 170', 'Fairchild C119G / Fairchild',\n",
       "       'Waco, model', 'Latécoère 23 (flying', 'Curtiss C',\n",
       "       'Eurocopter Deutschland', 'Nord', 'Bristol 28',\n",
       "       'Short Brothers S23 ‘C’ Class flying', 'Martin PBM',\n",
       "       'Avro  685 York', 'Vickers Viscount 827 / Fokker', 'Loening',\n",
       "       'Curtis', 'Vickers Viscount 764', 'VC', 'Bristol 175 Britannia',\n",
       "       'NC21V', 'Grumman G73T Turbo', 'Caudron', 'Embraer 120', 'Potez',\n",
       "       'Vickers 708', 'Latécoère 300 (float', 'Mil Mi 8T', 'Arado',\n",
       "       'Beech', 'Cessna 208B Caravan I Super', 'Lockheed Vega', 'HAL',\n",
       "       'Hindustan Aeronautics', 'CASA 212 Aviocar', 'IPTN 332C Super',\n",
       "       'M28', 'SNCASE', 'Lockheed 049', 'Cessna N/A1 Golden',\n",
       "       'Short Brothers Empire flying', 'Vickers 785D', 'SNIAS',\n",
       "       'British Aerospace Jetstream', 'Avro 683', 'Cessna 207 / Cessna',\n",
       "       'Five Grumman TBM', 'UC', 'Zeppelin Dixmunde', 'Curtiss Wright',\n",
       "       'MD', 'McDonnell', 'Fairchild Pilgrim', 'KB', 'Nakajima', 'Ryan',\n",
       "       'GAF Nomad', 'Heinkel', 'Rockwell International', 'Ilyushin 14M',\n",
       "       'Li', 'Tupolev A.N.T.', 'Cessna 404', 'ATRN/A', 'DHC',\n",
       "       'Mc Donnell Douglas', 'Aérospatiale/Aeritalia', 'Lockheed Orion',\n",
       "       'Travel Air', 'Channel Air', 'de Havilland Comet', 'LET 410',\n",
       "       'PZL', 'British Aerospace 3101 Jetstream', 'Beech Queen Air',\n",
       "       'Twin', 'de Havilland DH.104 Dove', 'ConvairCV', 'Eurocopter EC',\n",
       "       'Beechcraft Super King Air', 'Bandeirante', 'Embraer 110C',\n",
       "       'Embraer 110P', 'Fokker 27 Friendship', 'deHavilland', 'Boeing 40',\n",
       "       'Consolidated  32 Liberator', 'Cessna 208A Caravan I',\n",
       "       'Cessna 560 Citation', 'Pitcairn', 'Transall',\n",
       "       'Vickers 628 Viking', 'Nord 2501', 'Vickers 813', 'Lioré',\n",
       "       'Vickers 952F', 'Airspeed Ambassador', 'IAI 1124', 'Casa 212',\n",
       "       'Beechcraft Bonanza', 'Vickers 614 Viking', 'Fokker Universal',\n",
       "       'Mc Donnell Dougals', 'Swearingen SA.227AT Merlin', 'Latécoère',\n",
       "       'Cant', 'Dormier', 'Latecoere 301 (flying',\n",
       "       'Sikorsky CH53D / Sikorsky CH53D357 /', 'PAC', 'Bombardier',\n",
       "       'Desoutter', 'Embraer 110P2', 'Lockheed  188A', 'Curtiss Carrier',\n",
       "       'MH', 'Junkers 52/3m', 'de Havilland DHC',\n",
       "       'Eurocopter  AS332L2 Super', 'V6', 'Avia',\n",
       "       'Swearingen SA.226TC Metro', 'Grummand',\n",
       "       'Vickers Viscount 754D / Douglas', 'Beechcraft B200 Super King',\n",
       "       'Dirigible Roma', 'Helicopter', 'BAe', 'Lear Jet', 'Sabca',\n",
       "       'Vickers 615 Viking', 'Breguet 14', 'Lockheed L 1049G Super',\n",
       "       'de Hav Can.', 'Shaanxi Yunshuji', 'Black Hawk',\n",
       "       'Hawker Siddeley HS', 'Beech King Air 200', 'Swearingen SA.227AC',\n",
       "       'Martin 202A /', 'DC3(C47)FAC', 'Vickers', 'Dewoitine',\n",
       "       'SNCASE SE.2010', 'CMASA', 'Lockheed P2V', 'Lockheed 1329 Jetstar',\n",
       "       'CH53E Sea', 'Lockheed Hercules', 'Savoia Marchetti',\n",
       "       'Vickers Valetta Mk1 / Avero LancasterVX562 /', 'AirbusA310',\n",
       "       'Lockheed 1049E Super', 'Embraer 120RT', 'Lockheed 14H Super',\n",
       "       'Britten Norman BN', 'Cessna 441', 'Avro 688 Tudor', 'Bell 206',\n",
       "       'Curtiss Condor', 'Embraer 110P1A', 'Stinson Reliant', 'Wapiti',\n",
       "       'Fokker 28 Fellowship', 'GAF N22B', 'Vickers 802',\n",
       "       'de Havilland Dove', 'Boeing B52 Stratofortress/Boeing KC',\n",
       "       'Casa 352', 'Shaanxi', 'Short Brothers Sunderland 9 (flying',\n",
       "       'Vultee', 'BAE Avro', 'LET  410M', 'Tupolev TU', 'Ilyushin76TD4K',\n",
       "       'Helicopter, Hughes', 'Rockwell Sabreliner',\n",
       "       'Short Brothers Sandringham 2 (flying', 'Lasco', 'Fiat',\n",
       "       'Boeing 377', 'Schutte', 'Spartan', 'Airspeed AS.57 Ambassador',\n",
       "       'Handley Page Hastings C Mark', 'Vickers 74',\n",
       "       'Aerospatiale BAe Concorde', 'Beechcraft 1900D / Cessna', 'LVG C',\n",
       "       'Consolidated Catalina', 'Hawker', 'Volpar', 'FD Type',\n",
       "       'Beechcraft B300 King', 'Lockheed 1049C Super', 'Avro 685', 'Saro',\n",
       "       'EC', 'British Aerospace  BAe Jetstream', 'Vickers 798D',\n",
       "       'General', 'CMASA Wal (flying', 'Consolidated Liberator B24',\n",
       "       'Fairchild packet (C119 flying', 'Fokker (KLM)', 'Dirigible',\n",
       "       'R4D', 'Mitsubishi MU 2B', 'Beech King Air', 'Sikorsky  S 76',\n",
       "       'Sikorsky S', 'Antonov An', 'Ilushin', 'Iluyshin', 'Junkers JU86',\n",
       "       'Vickers 837', 'Caravelle', 'Kubicek BB85Z Hot Air', 'Sukhoi',\n",
       "       'EMB 721C', 'Fairchild Hiller', 'Bell 407 / Bell 407N407GA /',\n",
       "       'de Havilland Can.', 'Domier Delphin III (flying', 'Avro 691',\n",
       "       'Embraer 820C', 'Lockheed 10C', 'Beechcraft A100 King', 'KJ',\n",
       "       'PBY', 'Xian Yunshuji', 'Airspeed', 'Zepplin', 'AEGKD', 'VEB',\n",
       "       'Bleriot Spad', 'Lockheed 1649A', 'Sikorsly',\n",
       "       'de Havilland DH.89 Dragon', 'Sirkorsky', 'MI 172 V5',\n",
       "       'Swearingen 226TC Metro', 'Aerospeciale', 'B', 'Noorduyn',\n",
       "       'BAC One Eleven', 'L', 'Boeing Vertol Chinook', 'Socata',\n",
       "       'Piaggio', 'Ilysushin', 'Cessna 404 Titan Courier', 'Koolhoven',\n",
       "       'Pitcairns', 'Cessna 550 Citation', 'Both Eurocopter', 'Airship',\n",
       "       'Armstrong Whitworth Argosy', 'Rockwell 500S Shrike',\n",
       "       'Aerospatiale Nord', 'Avro 689 Tudor', 'Sepecat Jaguar',\n",
       "       'Grummand Gulfstream', 'Dassault', 'Vickers 604 Viking',\n",
       "       'IAI Attava', 'de Havilland Dragon', 'Blackburn Beverley C Mark',\n",
       "       'Boeing 737 Max', 'Latecoere 631 (sea', 'Rochrbach',\n",
       "       'Aerospatiale AS350BA', 'MiG', 'Savoia Marchetti SM',\n",
       "       'Fokker F10A', 'Mc Donnell Douglas 369FF',\n",
       "       'Aeromarine Model 85 (flying', 'IAI Arava', 'Eurocopter AS',\n",
       "       'Northrop Alpha', 'Fairchild R4Q / Dougas', 'AT L98',\n",
       "       'IAI 1124A Westwind', 'Tuolev', 'Avro York',\n",
       "       'Handley Page Jetstream', 'Saab340BB', 'Vickers 616 Viking',\n",
       "       'Aerospatiale Caravelle Super', 'British Aerospace 748',\n",
       "       'Cessna 500 Citation', 'Boeing 307', 'Urocopter AS350', 'Antonv',\n",
       "       'SPCA Meteore', 'Eurocopter AS350D', 'Swearingen SA227AC Metro',\n",
       "       'Illyushin', 'Dassault Breguet', 'Bristol 170 Freighter 31 Mark',\n",
       "       'Grumman Gulfstream', 'McDonnel', 'Embraer 110 P1', 'Liore',\n",
       "       'PBY4', 'Vickers 639 Viking', 'Stinson SM6000B',\n",
       "       'Aerospatiale 330G', 'Sukhoi Superjet', 'Xian',\n",
       "       'Vickers Viscount 745D /', 'Rockwell Gulfstream Jetprop 840',\n",
       "       'Ford model', 'Handley Page Hastings', 'Westland Sea King',\n",
       "       'Beechcraft B300 King Air', 'CF', 'Swear.', 'BAe Jetstream',\n",
       "       'Boeing CH47A', 'Boeing Vertol CH47A', 'Handley Page Halifax',\n",
       "       'Cessna 404 Titan', 'Lockheed L188A', 'Vickers 620 Viking',\n",
       "       'Travel Air 6000', 'Robertson R44', 'Saab Scandia / Cessna',\n",
       "       'Douglas DC', 'Short Brothers Solent 3 (flying', 'AAC',\n",
       "       'Cessna N/A1C Golden', 'Lockheed 749', 'Super Zeppelin', 'Tempest',\n",
       "       'Aerospatiale 330J', 'Vickers 828', 'Aerospatiale Alenia',\n",
       "       'Bell 412', 'Burgess', 'Aerospatiale AS 332L1 Super',\n",
       "       'Eurocopter EC135', 'Short Brothers Sunderland', 'Budd',\n",
       "       'IAI 1124A', 'Northrop', 'Hamilton', 'Fokker F27 Friendship',\n",
       "       'Lockhed 10', 'Grazhdansky Vozdushnyi Flot',\n",
       "       'Aerospatiale AS 350B2', 'BAe 3101 Jetstream',\n",
       "       'Swearingen SA227AT Merlin', 'Boeing 314A', 'Cessna 208',\n",
       "       'Short Brothers S.23 Empire Flying', 'Vickers 720',\n",
       "       'Beechcraft 100 King', 'Vickers 610', 'Salmson',\n",
       "       'Short Brothers Stirling', 'Dornier DO.18 (float', 'Savbia',\n",
       "       'Short Brothers Calcutta (flying', 'Bell 204B',\n",
       "       'Canadair CRJ200LR', 'BAC One', 'Boeing  377',\n",
       "       'de havilland 89 Dragon', 'Rutan Long EZ (experimental',\n",
       "       'Agusta A109A MK', 'Boeing Vetrol 107 II', 'Enstrom',\n",
       "       'Lockheed 10A', 'Sirkorsky 44A (flying', 'Blackburn',\n",
       "       'Short Brotherss SC.7 Skyvan',\n",
       "       'Short Brothers Sandringham 6 (flying', 'Cessna 402C', 'Faucett',\n",
       "       'Sikorksky', 'de Havilland DH114 Heron', 'GVF', 'Ilyushin IL',\n",
       "       'Bell 214ST', 'Aero Commander AC', 'Cessna 208 Caravan',\n",
       "       'Fairey Firefly', 'LET 410MT', 'Bell 214',\n",
       "       'Boeing 307 Stratoliner', 'Beech 200 Super King',\n",
       "       'British Aerospace Nimrod', 'de Havilland Canada DHC 3T Turbine',\n",
       "       'Soloy', 'Beechcraft SKA', 'de havilland Canada Twin Otter',\n",
       "       'Saab Scandia', 'Cessna 501', 'Hawker Siddeley Trident 2E /',\n",
       "       'Lockheed  5', 'Fokker UniversalNC52', 'Transportes Aéreos',\n",
       "       'Vickers 634', 'Vickers 621 Viking', 'Bloch', 'Spad', 'Wright',\n",
       "       'Cessna 441 Conquest', 'Fokker Super', 'CRDA CANT', 'Let Aero',\n",
       "       'Rockwell', 'Boulton and Paul', 'Fletcher', 'Cessna 402 / Piper',\n",
       "       'Stinson SM', 'AeroflotCCCP', 'de Havilland 89A Dragon',\n",
       "       'Avro Ninteen', 'Antonov An26SH76', 'Wright Flyer'], dtype=object)"
      ]
     },
     "execution_count": 91,
     "metadata": {},
     "output_type": "execute_result"
    }
   ],
   "source": [
    "df[\"Aircraft Manufacturer\"].unique()"
   ]
  },
  {
   "cell_type": "code",
   "execution_count": 93,
   "id": "cd54e181-b2f1-4bd0-bf93-4f465df4a28f",
   "metadata": {},
   "outputs": [],
   "source": [
    "# the Aircraft Mnaufacturer column is now clean "
   ]
  },
  {
   "cell_type": "code",
   "execution_count": 95,
   "id": "fc2fa9f9-a95b-400d-bb7a-c30f429d4974",
   "metadata": {},
   "outputs": [],
   "source": [
    "# cleaning of the Aircraft column "
   ]
  },
  {
   "cell_type": "code",
   "execution_count": 97,
   "id": "24376963-94df-4fb0-9f7c-60d3ee2f9ac5",
   "metadata": {
    "scrolled": true
   },
   "outputs": [
    {
     "data": {
      "text/plain": [
       "array(['de Havilland Canada DHC 6 Twin Otter 100VH', 'Douglas DC 3VT',\n",
       "       'Vickers Vanguard 952G AXOP', ...,\n",
       "       'Handley Page Dart Herald 2029Q CAH', 'Lockheed Hercules C 1309T',\n",
       "       'Douglas DC 6BSE'], dtype=object)"
      ]
     },
     "execution_count": 97,
     "metadata": {},
     "output_type": "execute_result"
    }
   ],
   "source": [
    "df.Aircraft.unique()"
   ]
  },
  {
   "cell_type": "code",
   "execution_count": 99,
   "id": "dbdcf81a-be83-4db6-a423-43122267ae03",
   "metadata": {},
   "outputs": [],
   "source": [
    "# the variables in this column are too many \n",
    "# some sort of manual cleaning might be applied \n",
    "# just to check if they are normal outliers that are not meant to e there like integers and symbols \n",
    "# which would then be changed to unknowns \n"
   ]
  },
  {
   "cell_type": "code",
   "execution_count": 101,
   "id": "653a92e7-c1e1-4dd0-8dd3-84573949c3dd",
   "metadata": {},
   "outputs": [],
   "source": [
    "df.loc[:, \"Aircraft\"] = df[\"Aircraft\"].str.replace(\"??\", \"N/A\")\n",
    "df.loc[:, \"Aircraft\"] = df[\"Aircraft\"].str.replace(\"?\", \"\")"
   ]
  },
  {
   "cell_type": "code",
   "execution_count": 103,
   "id": "e5cefbeb-95cb-477e-8184-9c4ba952eeec",
   "metadata": {},
   "outputs": [],
   "source": [
    "df.loc[:, \"Aircraft\"] = df[\"Aircraft\"].str.replace(\"139\", \"N/A\")\n",
    "df.loc[:, \"Aircraft\"] = df[\"Aircraft\"].str.replace(\"Li 2/ Li\", \"Lisunov Li-2\")\n",
    "df.loc[:, \"Aircraft\"] = df[\"Aircraft\"].str.replace(\"DC 3\", \"Douglas DC-3\")\n",
    "df.loc[:, \"Aircraft\"] = df[\"Aircraft\"].str.replace(\"Swallow Swallow\", \"Swallow\")"
   ]
  },
  {
   "cell_type": "code",
   "execution_count": 105,
   "id": "38c9eb81-eb2b-41f1-b865-8007259640a6",
   "metadata": {},
   "outputs": [],
   "source": [
    "# the Aircraft column is now clean "
   ]
  },
  {
   "cell_type": "code",
   "execution_count": 107,
   "id": "c57e346c-736a-4156-9526-64fb77e62fd5",
   "metadata": {},
   "outputs": [],
   "source": [
    "# cleaning of the location column \n",
    "# also this is a lot\n",
    "# ill use a manual method to check for any outliers not meant to be there \n",
    "# there was really nothing to ckean in this colmn,\n",
    "# i justed removed symbols that are not meant to be there"
   ]
  },
  {
   "cell_type": "code",
   "execution_count": 109,
   "id": "cdbc3365-7531-4dac-b2fa-a695dcabffdd",
   "metadata": {},
   "outputs": [
    {
     "data": {
      "text/plain": [
       "array(['Kainatu', 'Delhi', 'Near Basel', ...,\n",
       "       'Near the Kwango River Zaire', 'Kindu Zaire', 'Ndola Zambia'],\n",
       "      dtype=object)"
      ]
     },
     "execution_count": 109,
     "metadata": {},
     "output_type": "execute_result"
    }
   ],
   "source": [
    "df.Location.unique()"
   ]
  },
  {
   "cell_type": "code",
   "execution_count": 111,
   "id": "7dd5b8f2-4389-4f09-88fd-37b666d7b868",
   "metadata": {},
   "outputs": [],
   "source": [
    "df.loc[:, \"Location\"] = df[\"Location\"].str.replace(\"?\", \"\")\n",
    "df.loc[:, \"Location\"] = df[\"Location\"].str.replace(\"Aeroflot\", \"N/A\")"
   ]
  },
  {
   "cell_type": "code",
   "execution_count": 112,
   "id": "aafe60ae-34c1-4e1a-ab3a-31bd407cffb0",
   "metadata": {},
   "outputs": [],
   "source": [
    "# the Location column is now clean "
   ]
  },
  {
   "cell_type": "code",
   "execution_count": 115,
   "id": "c7f6f7d8-7ed9-46ee-b991-35dcdd0a9a7d",
   "metadata": {},
   "outputs": [],
   "source": [
    "# cleaning of the Operator column \n",
    "# its also a long one \n",
    "# im going to try to clean some manually and check for any outliers \n"
   ]
  },
  {
   "cell_type": "code",
   "execution_count": 116,
   "id": "17cb15ff-9149-4c9e-966b-a350756bb5b6",
   "metadata": {},
   "outputs": [
    {
     "data": {
      "text/plain": [
       "array(['Airlines Australia GuineaTrans New', 'Airways IndiaDeccan',\n",
       "       '(UK) Airlines International SwitzerlandInvicta', ...,\n",
       "       'Services Aero MMM', 'Zaïroise Aérienne Force - Military',\n",
       "       'Sweden Transair'], dtype=object)"
      ]
     },
     "execution_count": 116,
     "metadata": {},
     "output_type": "execute_result"
    }
   ],
   "source": [
    "df.Operator.unique()"
   ]
  },
  {
   "cell_type": "code",
   "execution_count": 119,
   "id": "098aa0fa-09a7-4090-b66a-904c2d928682",
   "metadata": {},
   "outputs": [],
   "source": [
    "df.loc[:, \"Operator\"] = df[\"Operator\"].str.replace(\"-\", \"N/A\")\n",
    "df.loc[:, \"Operator\"] = df[\"Operator\"].str.replace(\"YPF\", \"N/A\")\n",
    "df.loc[:, \"Operator\"] = df[\"Operator\"].str.replace(\"Aeroput\", \"N/A\")\n",
    "df.loc[:, \"Operator\"] = df[\"Operator\"].str.replace(\"York?\", \"N/A\")\n",
    "df.loc[:, \"Operator\"] = df[\"Operator\"].str.replace(\"?\", \"N/A\")\n",
    "df.loc[:, \"Operator\"] = df[\"Operator\"].str.replace(\"Sabena\", \"N/A\")\n",
    "df.loc[:, \"Operator\"] = df[\"Operator\"].str.replace(\"Travel\", \"N/A\")\n",
    "df.loc[:, \"Operator\"] = df[\"Operator\"].str.replace(\"AREA\", \"N/A\")\n",
    "df.loc[:, \"Operator\"] = df[\"Operator\"].str.replace(\"Egypt\", \"N/A\")\n",
    "df.loc[:, \"Operator\"] = df[\"Operator\"].str.replace(\"REAL\", \"N/A\")\n",
    "df.loc[:, \"Operator\"] = df[\"Operator\"].str.replace(\"Air by\", \"N/A\")\n",
    "df.loc[:, \"Operator\"] = df[\"Operator\"].str.replace(\"Zanex\", \"N/A\")\n",
    "df.loc[:, \"Operator\"] = df[\"Operator\"].str.replace(\"Ir\", \"Iran Air\")\n",
    "df.loc[:, \"Operator\"] = df[\"Operator\"].str.replace(\"ATI\", \"Air Transport International\")\n",
    "df.loc[:, \"Operator\"] = df[\"Operator\"].str.replace(\"Ts\", \"Air Transnat\")\n",
    "df.loc[:, \"Operator\"] = df[\"Operator\"].str.replace(\"Surrey\", \"N/A\")\n",
    "df.loc[:, \"Operator\"] = df[\"Operator\"].str.replace(\"TAN\", \"Transportes Areos Nacionales\")\n",
    "df['Operator'] = df['Operator'].replace([\"Air\"], 'N/A')"
   ]
  },
  {
   "cell_type": "code",
   "execution_count": 120,
   "id": "e80a9b2a-00bd-45b9-95c6-8e9a84514507",
   "metadata": {},
   "outputs": [],
   "source": [
    "# cleaning of the Ground column"
   ]
  },
  {
   "cell_type": "code",
   "execution_count": 122,
   "id": "766aa5e5-3c04-48b4-aefe-c5ccb5d9eb8a",
   "metadata": {},
   "outputs": [
    {
     "data": {
      "text/plain": [
       "array([   0,    3,   37,    8,    6,   16,    2,    1,   44,    9,    7,\n",
       "         15,   10,   58,   53,   63,    5,   33,   22,  125,   14,   11,\n",
       "         19,   24,   31,   13,   12,    4,   20,   87,   23,   35,  225,\n",
       "         85,   36,   17,   18,   32,   50,   71,   78,   25,  113,   30,\n",
       "         39,   45,   49,   29, 2750,   40], dtype=int64)"
      ]
     },
     "execution_count": 122,
     "metadata": {},
     "output_type": "execute_result"
    }
   ],
   "source": [
    "df.Ground.unique()"
   ]
  },
  {
   "cell_type": "code",
   "execution_count": 124,
   "id": "5e3dfef1-5e9d-4e72-8a3b-9becf15b9698",
   "metadata": {},
   "outputs": [],
   "source": [
    "# there are no form of outliers ie string variables "
   ]
  },
  {
   "cell_type": "code",
   "execution_count": 126,
   "id": "8f128613-012b-45b8-8bac-d0b86517d3c4",
   "metadata": {},
   "outputs": [],
   "source": [
    "# the Ground column is clean"
   ]
  },
  {
   "cell_type": "code",
   "execution_count": 128,
   "id": "16e9bd92-ac2b-4bde-aa70-5d6b47346932",
   "metadata": {},
   "outputs": [],
   "source": [
    "# cleaning of the Fatalities (air) column \n"
   ]
  },
  {
   "cell_type": "code",
   "execution_count": 130,
   "id": "53f233bc-b30b-4f67-8ab6-7c04c726b97f",
   "metadata": {},
   "outputs": [
    {
     "data": {
      "text/plain": [
       "array([  8,   9, 108,  24,  12,  18,   2,  49,  36,  29,  76,   7,   4,\n",
       "       264,   6,   1,   5,   3,  34,  35, 257,  10,  25,  13,  33, 107,\n",
       "        20,  78,  50,  55,  40,  26,  19,  15,  16, 146,  14,  17,  53,\n",
       "        37,  31,  11,  32, 126,  44,  57,   0,  21,  43,  22,  30,  23,\n",
       "        62, 112,  28,  27,  39,  46,  47,  61,  73,  83, 127, 131,  52,\n",
       "        45,  67,  96, 128, 155, 123,  54, 109,  99,  38,  63,  56, 143,\n",
       "       121,  42, 156,  70,  59,  48, 228,  69,  90,  68, 110, 154, 188,\n",
       "       520, 141,  79, 102,  41,  64, 178,  84,  65, 301,  85,  60,  82,\n",
       "       134, 170, 160,  77, 140,  72, 103,  91, 104,  94, 157,  81, 106,\n",
       "       162, 100, 180, 256,  92,  98, 259,  93, 191,  51,  87, 144,  58,\n",
       "        66, 189, 275, 117, 133,  71, 196, 148,  97,  88,  74, 176, 169,\n",
       "       213, 124,  75, 119,  89, 187,  80, 168, 163, 166, 145, 116, 290,\n",
       "       113, 230, 152, 125, 261, 298, 200, 118, 329, 101, 137, 122, 153,\n",
       "       120, 129, 132, 130, 111, 583, 150, 346, 167, 239,  95, 114, 271,\n",
       "       159, 183, 115, 225, 223, 349, 260, 181, 224, 217,  86, 174, 234,\n",
       "       171, 158, 229, 269], dtype=int64)"
      ]
     },
     "execution_count": 130,
     "metadata": {},
     "output_type": "execute_result"
    }
   ],
   "source": [
    "df[\"Fatalities (air)\"].unique()"
   ]
  },
  {
   "cell_type": "code",
   "execution_count": 132,
   "id": "0dad294d-5290-4fee-b5b5-81a345706101",
   "metadata": {},
   "outputs": [],
   "source": [
    "# there are no form of outliers ie string variables "
   ]
  },
  {
   "cell_type": "code",
   "execution_count": 135,
   "id": "300f8d3b-0d6d-43a0-8a1c-36fbc9fa5809",
   "metadata": {},
   "outputs": [],
   "source": [
    "# the Fatalities (air) column is now clean "
   ]
  },
  {
   "cell_type": "code",
   "execution_count": 136,
   "id": "de0c68ff-697a-41a0-a996-f5c0d9944546",
   "metadata": {},
   "outputs": [],
   "source": [
    "# cleaning of thr Aboard column "
   ]
  },
  {
   "cell_type": "code",
   "execution_count": 139,
   "id": "7f297a7e-14cb-4bde-96d3-31b55f3dcdc4",
   "metadata": {},
   "outputs": [
    {
     "data": {
      "text/plain": [
       "array([ 11,   9, 145,  24,  12,  18,   2,  49,  36,  29,  76,  16,   7,\n",
       "        19, 271,   6,  50,   3,   5, 264,  34,  39, 257,  10,  25,  13,\n",
       "         1,  33, 107,  35,  20,   4,  84,  58,  40,   0,  30,  22,  15,\n",
       "         8,  17,  14, 146,  27,  53,  51,  31,  26,  94, 112, 130,  44,\n",
       "        32, 100,  57,  54,  21,  43,  23,  85, 121,  28,  95, 118, 108,\n",
       "        45, 169,  37,  46, 127,  47,  82,  89,  98, 149, 131,  69, 109,\n",
       "        67,  96, 166,  78, 330, 128,  52,  88,  38,  99,  83, 103,  64,\n",
       "       143, 105, 116, 309, 147, 315,  42,  59, 156,  91,  55, 137,  48,\n",
       "       254, 190, 165,  90, 168, 110, 155, 188, 285,  72, 524, 141,  41,\n",
       "        79, 102,  63, 178,  65, 301, 160, 172,  60,  86, 304, 163, 170,\n",
       "       300,  73, 340, 239, 144,  61, 161,  62,  70, 115, 176,  56, 314,\n",
       "        92, 133, 189, 132, 104, 177, 157,  81, 198, 106,  71, 162, 393,\n",
       "       293, 180, 256, 291, 119, 111, 259, 129, 135, 191,  93,  75, 164,\n",
       "        77,  80, 274,  87, 113, 356, 298,  66, 275, 117, 174, 101, 134,\n",
       "       123, 124, 159, 196, 148, 212, 385, 152, 126, 179, 213, 158, 202,\n",
       "       187, 218, 307, 122, 142,  68, 153, 517, 199, 290, 230, 292, 203,\n",
       "       261, 200, 329, 228, 136,  74, 120, 214, 258, 644, 150, 346, 182,\n",
       "       140,  97, 167, 229, 114, 183, 225, 223, 181, 175, 349, 260, 226,\n",
       "       192, 262, 224, 217, 234, 171, 384, 269, 245, 394, 154], dtype=int64)"
      ]
     },
     "execution_count": 139,
     "metadata": {},
     "output_type": "execute_result"
    }
   ],
   "source": [
    "df.Aboard.unique()"
   ]
  },
  {
   "cell_type": "code",
   "execution_count": 140,
   "id": "780120ed-4930-4816-b1a7-f1b8a5e8a216",
   "metadata": {},
   "outputs": [],
   "source": [
    "# there are no form of outliers ie string variables "
   ]
  },
  {
   "cell_type": "code",
   "execution_count": 142,
   "id": "91dd27c5-4cc4-442a-a0c2-ff3f08b75700",
   "metadata": {},
   "outputs": [],
   "source": [
    "# the Aboard is now clean "
   ]
  },
  {
   "cell_type": "code",
   "execution_count": 144,
   "id": "1f5a7a5a-e810-426a-91cd-503f3f51080b",
   "metadata": {},
   "outputs": [],
   "source": [
    "# time for analysis and visualization "
   ]
  },
  {
   "cell_type": "code",
   "execution_count": 146,
   "id": "8a524adc-bf31-423b-82dc-f276f232b9d8",
   "metadata": {},
   "outputs": [
    {
     "data": {
      "text/plain": [
       "Country/Region\n",
       "N/A                    480\n",
       "Russia                 249\n",
       "Brazil                 166\n",
       "Colombia               146\n",
       "California             113\n",
       "                      ... \n",
       "Lochgoilhead             1\n",
       "Australila               1\n",
       "Marine                   1\n",
       "Minnesota46826/N/A9      1\n",
       "Zabul                    1\n",
       "Name: count, Length: 473, dtype: int64"
      ]
     },
     "execution_count": 146,
     "metadata": {},
     "output_type": "execute_result"
    }
   ],
   "source": [
    "# countries with the highest air-crashes\n",
    "df[\"Country/Region\"].value_counts()"
   ]
  },
  {
   "cell_type": "code",
   "execution_count": 148,
   "id": "d4191ff6-0df5-4aa6-8bd1-2e0fed3743f0",
   "metadata": {},
   "outputs": [
    {
     "data": {
      "text/plain": [
       "Quarter\n",
       "Qtr 4    1368\n",
       "Qtr 3    1333\n",
       "Qtr 1    1256\n",
       "Qtr 2    1078\n",
       "Name: count, dtype: int64"
      ]
     },
     "execution_count": 148,
     "metadata": {},
     "output_type": "execute_result"
    }
   ],
   "source": [
    "# Quater of the year which aircrashes occur the most \n",
    "df.Quarter.value_counts()"
   ]
  },
  {
   "cell_type": "code",
   "execution_count": 150,
   "id": "04338214-ac83-472f-8b3a-3fa38ea4ce5f",
   "metadata": {},
   "outputs": [
    {
     "data": {
      "text/plain": [
       "Aircraft Manufacturer\n",
       "Douglas                                 996\n",
       "Boeing                                  388\n",
       "Antonov                                 284\n",
       "Lockheed                                211\n",
       "de Havilland Canada                     157\n",
       "                                       ... \n",
       "Lockheed  188A                            1\n",
       "Desoutter                                 1\n",
       "PAC                                       1\n",
       "Sikorsky CH53D / Sikorsky CH53D357 /      1\n",
       "Wright Flyer                              1\n",
       "Name: count, Length: 618, dtype: int64"
      ]
     },
     "execution_count": 150,
     "metadata": {},
     "output_type": "execute_result"
    }
   ],
   "source": [
    "# aircraft manufacturer with the most aircrashes\n",
    "df[\"Aircraft Manufacturer\"].value_counts()"
   ]
  },
  {
   "cell_type": "code",
   "execution_count": 153,
   "id": "d1e26653-6bfd-451f-905e-74fdde1275d6",
   "metadata": {},
   "outputs": [
    {
     "data": {
      "text/plain": [
       "Operator\n",
       "N/A                                     279\n",
       "Aeroflot                                188\n",
       "Force Air U.S. N/A Military              92\n",
       "Lufthansa Deutsche                       57\n",
       "France Air                               57\n",
       "                                       ... \n",
       "Canada Northern Thunderbird Air Ltd.      1\n",
       "Airways Mustique                          1\n",
       "Force Air Azerbaijan N/A Military         1\n",
       "Timor de Aéreos Transportes               1\n",
       "Sweden Transair                           1\n",
       "Name: count, Length: 2621, dtype: int64"
      ]
     },
     "execution_count": 153,
     "metadata": {},
     "output_type": "execute_result"
    }
   ],
   "source": [
    "# operator with the most air crashes \n",
    "df.Operator.value_counts()"
   ]
  },
  {
   "cell_type": "code",
   "execution_count": 154,
   "id": "0561f54e-6299-48f9-903a-98c3229e7140",
   "metadata": {},
   "outputs": [
    {
     "data": {
      "text/plain": [
       "111872"
      ]
     },
     "execution_count": 154,
     "metadata": {},
     "output_type": "execute_result"
    }
   ],
   "source": [
    "# total number of fatalities from 19whatever the fuck the year is fro till whenever \n",
    "df[\"Fatalities (air)\"].sum()"
   ]
  },
  {
   "cell_type": "code",
   "execution_count": 157,
   "id": "835a0001-1910-47d1-8562-b1ecf63b3984",
   "metadata": {},
   "outputs": [
    {
     "data": {
      "text/plain": [
       "156625"
      ]
     },
     "execution_count": 157,
     "metadata": {},
     "output_type": "execute_result"
    }
   ],
   "source": [
    "# total number of people abord these flights that crashed \n",
    "df[\"Aboard\"].sum()"
   ]
  },
  {
   "cell_type": "code",
   "execution_count": 158,
   "id": "34655443-cafa-4e31-ada2-f596e3ea9c7a",
   "metadata": {},
   "outputs": [],
   "source": [
    "# total number of people who survived \n"
   ]
  },
  {
   "cell_type": "code",
   "execution_count": 160,
   "id": "aa32268a-1beb-4ee5-b5da-e6b53e7438b6",
   "metadata": {},
   "outputs": [
    {
     "name": "stdout",
     "output_type": "stream",
     "text": [
      "Earliest year: 1908\n",
      "Latest year: 2024\n"
     ]
    }
   ],
   "source": [
    "years = df['Year'].tolist()  \n",
    "\n",
    "min_year = min(years)\n",
    "max_year = max(years)\n",
    "\n",
    "print(\"Earliest year:\", min_year)\n",
    "print(\"Latest year:\", max_year)\n"
   ]
  },
  {
   "cell_type": "code",
   "execution_count": 162,
   "id": "fa765620-7d20-4757-8b40-44003e5b488c",
   "metadata": {},
   "outputs": [],
   "source": [
    "# the minimum year is 1908, the latest year is 2024"
   ]
  },
  {
   "cell_type": "code",
   "execution_count": 164,
   "id": "1fc90ad7-2011-4b99-afc9-78b1a3da97a0",
   "metadata": {},
   "outputs": [],
   "source": [
    "# the rate of which aircrashes ave been hapening by the decade\n",
    "\n",
    "\n",
    "\n",
    "# Set min and max year for bins\n",
    "min_year = df['Year'].min()\n",
    "max_year = df['Year'].max()\n",
    "\n",
    "# Create bin edges: every 10 years from min to max\n",
    "bins = list(range((min_year // 10) * 10, (max_year // 10 + 1) * 10 + 1, 10))\n",
    "\n",
    "\n",
    "labels = [f\"{b}s\" for b in bins[:-1]]\n",
    "\n",
    "df['Decade'] = pd.cut(df['Year'], bins=bins, labels=labels, right=False)\n",
    "\n"
   ]
  },
  {
   "cell_type": "code",
   "execution_count": 166,
   "id": "c1d8b5f5-8304-4e88-a980-63f674dd817d",
   "metadata": {},
   "outputs": [
    {
     "data": {
      "text/plain": [
       "Decade\n",
       "1900s      2\n",
       "1910s     31\n",
       "1920s    182\n",
       "1930s    361\n",
       "1940s    581\n",
       "1950s    653\n",
       "1960s    652\n",
       "1970s    612\n",
       "1980s    553\n",
       "1990s    633\n",
       "2000s    507\n",
       "2010s    238\n",
       "2020s     30\n",
       "Name: count, dtype: int64"
      ]
     },
     "execution_count": 166,
     "metadata": {},
     "output_type": "execute_result"
    }
   ],
   "source": [
    "df.Decade.value_counts().sort_index()"
   ]
  },
  {
   "cell_type": "code",
   "execution_count": 167,
   "id": "e314a28c-b4a4-423a-b4c7-1237c959aa7f",
   "metadata": {},
   "outputs": [
    {
     "data": {
      "image/png": "[encoded data removed]",
      "text/plain": [
       "<Figure size 800x500 with 1 Axes>"
      ]
     },
     "metadata": {},
     "output_type": "display_data"
    }
   ],
   "source": [
    "\n",
    "plt.figure(figsize=(8, 5))\n",
    "plt.plot(df.Decade.value_counts().sort_index(), color='black')\n",
    "plt.title(\"numbers of reported aircrashes by decade\")\n",
    "plt.xlabel(\"Decade\")\n",
    "plt.ylabel(\"Count\")\n",
    "plt.grid(True)\n",
    "plt.show()\n"
   ]
  },
  {
   "cell_type": "code",
   "execution_count": 168,
   "id": "07fafd84-f792-4167-a6c1-a9d13784fe30",
   "metadata": {},
   "outputs": [
    {
     "data": {
      "text/plain": [
       "Month\n",
       "December     497\n",
       "January      467\n",
       "September    453\n",
       "August       452\n",
       "November     443\n",
       "July         428\n",
       "October      428\n",
       "March        427\n",
       "June         367\n",
       "February     362\n",
       "May          361\n",
       "April        350\n",
       "Name: count, dtype: int64"
      ]
     },
     "execution_count": 168,
     "metadata": {},
     "output_type": "execute_result"
    }
   ],
   "source": [
    "df.Month.value_counts()"
   ]
  },
  {
   "cell_type": "code",
   "execution_count": 170,
   "id": "e2e4dd0d-4416-42fa-a0ef-93a530fc0127",
   "metadata": {},
   "outputs": [
    {
     "data": {
      "text/plain": [
       "Index(['Year', 'Quarter', 'Month', 'Day', 'Country/Region',\n",
       "       'Aircraft Manufacturer', 'Aircraft', 'Location', 'Operator', 'Ground',\n",
       "       'Fatalities (air)', 'Aboard', 'Decade'],\n",
       "      dtype='object')"
      ]
     },
     "execution_count": 170,
     "metadata": {},
     "output_type": "execute_result"
    }
   ],
   "source": [
    "df.columns"
   ]
  },
  {
   "cell_type": "code",
   "execution_count": 172,
   "id": "233033a5-3390-4f5a-97a0-d9c80a7a0446",
   "metadata": {},
   "outputs": [],
   "source": [
    "# i want to find out which season aircrashes occur the most so that they will be extensive preventure methods during these seasons \n",
    "# ill use bins to group the months into the different seasons \n",
    "#Spring (March-May), Summer (June-August), Fall (September-November), and Winter (December-February)\n",
    "# shits complicated but ill find my way "
   ]
  },
  {
   "cell_type": "code",
   "execution_count": 173,
   "id": "4b4a9ce4-7666-47cd-8f05-ce8c3751ee85",
   "metadata": {},
   "outputs": [
    {
     "data": {
      "text/html": [
       "<div>\n",
       "<style scoped>\n",
       "    .dataframe tbody tr th:only-of-type {\n",
       "        vertical-align: middle;\n",
       "    }\n",
       "\n",
       "    .dataframe tbody tr th {\n",
       "        vertical-align: top;\n",
       "    }\n",
       "\n",
       "    .dataframe thead th {\n",
       "        text-align: right;\n",
       "    }\n",
       "</style>\n",
       "<table border=\"1\" class=\"dataframe\">\n",
       "  <thead>\n",
       "    <tr style=\"text-align: right;\">\n",
       "      <th></th>\n",
       "      <th>Year</th>\n",
       "      <th>Quarter</th>\n",
       "      <th>Month</th>\n",
       "      <th>Day</th>\n",
       "      <th>Country/Region</th>\n",
       "      <th>Aircraft Manufacturer</th>\n",
       "      <th>Aircraft</th>\n",
       "      <th>Location</th>\n",
       "      <th>Operator</th>\n",
       "      <th>Ground</th>\n",
       "      <th>Fatalities (air)</th>\n",
       "      <th>Aboard</th>\n",
       "      <th>Decade</th>\n",
       "    </tr>\n",
       "  </thead>\n",
       "  <tbody>\n",
       "    <tr>\n",
       "      <th>4980</th>\n",
       "      <td>1946</td>\n",
       "      <td>Qtr 3</td>\n",
       "      <td>September</td>\n",
       "      <td>27</td>\n",
       "      <td>Stirlingshire</td>\n",
       "      <td>de Havilland 89A Dragon</td>\n",
       "      <td>de Havilland 89A Dragon RapideG AFFF</td>\n",
       "      <td>Near Milngavie Stirlingshire</td>\n",
       "      <td>Scotland Railway Air Service Ltd.</td>\n",
       "      <td>0</td>\n",
       "      <td>7</td>\n",
       "      <td>7</td>\n",
       "      <td>1940s</td>\n",
       "    </tr>\n",
       "    <tr>\n",
       "      <th>4711</th>\n",
       "      <td>1946</td>\n",
       "      <td>Qtr 3</td>\n",
       "      <td>September</td>\n",
       "      <td>3</td>\n",
       "      <td>Denmark</td>\n",
       "      <td>Douglas</td>\n",
       "      <td>Douglas Douglas DC-3 (C</td>\n",
       "      <td>Holtug Denmark</td>\n",
       "      <td>France Air</td>\n",
       "      <td>0</td>\n",
       "      <td>22</td>\n",
       "      <td>22</td>\n",
       "      <td>1940s</td>\n",
       "    </tr>\n",
       "    <tr>\n",
       "      <th>4654</th>\n",
       "      <td>1987</td>\n",
       "      <td>Qtr 3</td>\n",
       "      <td>September</td>\n",
       "      <td>8</td>\n",
       "      <td>Brazil</td>\n",
       "      <td>Hawker Siddeley</td>\n",
       "      <td>Hawker Siddeley HS 125</td>\n",
       "      <td>Carajas Brazil</td>\n",
       "      <td>Force Air Brazilian N/A Military</td>\n",
       "      <td>0</td>\n",
       "      <td>9</td>\n",
       "      <td>9</td>\n",
       "      <td>1980s</td>\n",
       "    </tr>\n",
       "    <tr>\n",
       "      <th>643</th>\n",
       "      <td>1938</td>\n",
       "      <td>Qtr 3</td>\n",
       "      <td>August</td>\n",
       "      <td>29</td>\n",
       "      <td>N/A</td>\n",
       "      <td>Ford</td>\n",
       "      <td>Ford Tri motorNC17316</td>\n",
       "      <td>Near Tucumcari New</td>\n",
       "      <td>Air &amp;Western MexicoTranscontinental</td>\n",
       "      <td>0</td>\n",
       "      <td>0</td>\n",
       "      <td>11</td>\n",
       "      <td>1930s</td>\n",
       "    </tr>\n",
       "    <tr>\n",
       "      <th>236</th>\n",
       "      <td>1995</td>\n",
       "      <td>Qtr 2</td>\n",
       "      <td>April</td>\n",
       "      <td>23</td>\n",
       "      <td>Nigeria</td>\n",
       "      <td>de Havilland Canada</td>\n",
       "      <td>de Havilland Canada DHC 6 Twin Otter 3005N</td>\n",
       "      <td>Lagos Nigeria</td>\n",
       "      <td>Helicopters Bristow</td>\n",
       "      <td>0</td>\n",
       "      <td>1</td>\n",
       "      <td>9</td>\n",
       "      <td>1990s</td>\n",
       "    </tr>\n",
       "  </tbody>\n",
       "</table>\n",
       "</div>"
      ],
      "text/plain": [
       "      Year Quarter      Month  Day Country/Region    Aircraft Manufacturer  \\\n",
       "4980  1946   Qtr 3  September   27  Stirlingshire  de Havilland 89A Dragon   \n",
       "4711  1946   Qtr 3  September    3        Denmark                  Douglas   \n",
       "4654  1987   Qtr 3  September    8         Brazil          Hawker Siddeley   \n",
       "643   1938   Qtr 3     August   29            N/A                     Ford   \n",
       "236   1995   Qtr 2      April   23        Nigeria      de Havilland Canada   \n",
       "\n",
       "                                        Aircraft  \\\n",
       "4980        de Havilland 89A Dragon RapideG AFFF   \n",
       "4711                     Douglas Douglas DC-3 (C   \n",
       "4654                      Hawker Siddeley HS 125   \n",
       "643                        Ford Tri motorNC17316   \n",
       "236   de Havilland Canada DHC 6 Twin Otter 3005N   \n",
       "\n",
       "                          Location                             Operator  \\\n",
       "4980  Near Milngavie Stirlingshire    Scotland Railway Air Service Ltd.   \n",
       "4711                Holtug Denmark                           France Air   \n",
       "4654                Carajas Brazil     Force Air Brazilian N/A Military   \n",
       "643             Near Tucumcari New  Air &Western MexicoTranscontinental   \n",
       "236                  Lagos Nigeria                  Helicopters Bristow   \n",
       "\n",
       "      Ground  Fatalities (air)  Aboard Decade  \n",
       "4980       0                 7       7  1940s  \n",
       "4711       0                22      22  1940s  \n",
       "4654       0                 9       9  1980s  \n",
       "643        0                 0      11  1930s  \n",
       "236        0                 1       9  1990s  "
      ]
     },
     "execution_count": 173,
     "metadata": {},
     "output_type": "execute_result"
    }
   ],
   "source": [
    "df.sample(5)"
   ]
  },
  {
   "cell_type": "code",
   "execution_count": 174,
   "id": "15bd5f07-613a-4000-a1bd-5eec2a8eff19",
   "metadata": {},
   "outputs": [],
   "source": [
    "def get_season(Month):\n",
    "    if Month in [\"December\", \"January\", \"Febuary\"]:\n",
    "        return 'Winter'\n",
    "    elif Month in [\"March\", \"April\", \"May\"]:\n",
    "        return 'Spring'\n",
    "    elif Month in [\"June\", \"July\", \"August\"]:\n",
    "        return 'Summer'\n",
    "    elif Month in [\"September\", 'October', \"November\"]:\n",
    "        return 'Fall'\n",
    "\n",
    "df['Season'] = df['Month'].apply(get_season)\n"
   ]
  },
  {
   "cell_type": "code",
   "execution_count": 175,
   "id": "8af405d4-623f-43bb-b729-04c1de4341bc",
   "metadata": {},
   "outputs": [
    {
     "data": {
      "text/plain": [
       "Season\n",
       "Fall      1324\n",
       "Summer    1247\n",
       "Spring    1138\n",
       "Winter     964\n",
       "Name: count, dtype: int64"
      ]
     },
     "execution_count": 175,
     "metadata": {},
     "output_type": "execute_result"
    }
   ],
   "source": [
    "df['Season'].value_counts()"
   ]
  },
  {
   "cell_type": "code",
   "execution_count": 176,
   "id": "0e921537-421f-4a95-8724-87dd629cabce",
   "metadata": {},
   "outputs": [
    {
     "data": {
      "text/plain": [
       "<Axes: xlabel='Season'>"
      ]
     },
     "execution_count": 176,
     "metadata": {},
     "output_type": "execute_result"
    },
    {
     "data": {
      "image/png": "[encoded data removed]",
      "text/plain": [
       "<Figure size 640x480 with 1 Axes>"
      ]
     },
     "metadata": {},
     "output_type": "display_data"
    }
   ],
   "source": [
    "df.Season.value_counts().plot(kind = \"bar\")"
   ]
  },
  {
   "cell_type": "code",
   "execution_count": 177,
   "id": "84629cee-2934-42d3-abbf-62ebf7abfc8a",
   "metadata": {},
   "outputs": [],
   "source": [
    "# the highest amount of aircrashes occur in the fall season "
   ]
  },
  {
   "cell_type": "code",
   "execution_count": 178,
   "id": "391f66f4-9980-4552-84e6-12e03b6c3df9",
   "metadata": {},
   "outputs": [
    {
     "data": {
      "text/plain": [
       "Month\n",
       "December     497\n",
       "January      467\n",
       "September    453\n",
       "August       452\n",
       "November     443\n",
       "July         428\n",
       "October      428\n",
       "March        427\n",
       "June         367\n",
       "February     362\n",
       "May          361\n",
       "April        350\n",
       "Name: count, dtype: int64"
      ]
     },
     "execution_count": 178,
     "metadata": {},
     "output_type": "execute_result"
    }
   ],
   "source": [
    "df.Month.value_counts()"
   ]
  },
  {
   "cell_type": "code",
   "execution_count": 179,
   "id": "8807dadf-291b-4dd3-ba3e-0175655b0a50",
   "metadata": {},
   "outputs": [
    {
     "data": {
      "text/plain": [
       "<Axes: xlabel='Month'>"
      ]
     },
     "execution_count": 179,
     "metadata": {},
     "output_type": "execute_result"
    },
    {
     "data": {
      "image/png": "[encoded data removed]",
      "text/plain": [
       "<Figure size 640x480 with 1 Axes>"
      ]
     },
     "metadata": {},
     "output_type": "display_data"
    }
   ],
   "source": [
    "df.Month.value_counts().plot(kind = \"bar\")"
   ]
  },
  {
   "cell_type": "code",
   "execution_count": 180,
   "id": "6915d60d-74a2-4e18-b191-3b1be9de2af2",
   "metadata": {},
   "outputs": [],
   "source": [
    "df['Survivors'] = df['Aboard'] - df['Fatalities (air)']\n",
    "\n",
    "\n",
    "\n",
    "\n",
    "def categorize_fatality(row):\n",
    "    if row['Fatalities (air)'] == row['Aboard']:\n",
    "        return 'Total Fatality'\n",
    "    elif row['Fatalities (air)'] == 0:\n",
    "        return 'Total Survival'\n",
    "    else:\n",
    "        return 'Non-Total Fatality'\n",
    "\n",
    "\n",
    "df['Fatality_Bin'] = df.apply(categorize_fatality, axis=1)"
   ]
  },
  {
   "cell_type": "code",
   "execution_count": 181,
   "id": "c8b5185d-01d1-47fc-a5f7-5737724847eb",
   "metadata": {},
   "outputs": [
    {
     "data": {
      "text/html": [
       "<div>\n",
       "<style scoped>\n",
       "    .dataframe tbody tr th:only-of-type {\n",
       "        vertical-align: middle;\n",
       "    }\n",
       "\n",
       "    .dataframe tbody tr th {\n",
       "        vertical-align: top;\n",
       "    }\n",
       "\n",
       "    .dataframe thead th {\n",
       "        text-align: right;\n",
       "    }\n",
       "</style>\n",
       "<table border=\"1\" class=\"dataframe\">\n",
       "  <thead>\n",
       "    <tr style=\"text-align: right;\">\n",
       "      <th></th>\n",
       "      <th>Year</th>\n",
       "      <th>Quarter</th>\n",
       "      <th>Month</th>\n",
       "      <th>Day</th>\n",
       "      <th>Country/Region</th>\n",
       "      <th>Aircraft Manufacturer</th>\n",
       "      <th>Aircraft</th>\n",
       "      <th>Location</th>\n",
       "      <th>Operator</th>\n",
       "      <th>Ground</th>\n",
       "      <th>Fatalities (air)</th>\n",
       "      <th>Aboard</th>\n",
       "      <th>Decade</th>\n",
       "      <th>Season</th>\n",
       "      <th>Survivors</th>\n",
       "      <th>Fatality_Bin</th>\n",
       "    </tr>\n",
       "  </thead>\n",
       "  <tbody>\n",
       "    <tr>\n",
       "      <th>1788</th>\n",
       "      <td>1955</td>\n",
       "      <td>Qtr 1</td>\n",
       "      <td>January</td>\n",
       "      <td>12</td>\n",
       "      <td>Covington</td>\n",
       "      <td>Martin 202A /</td>\n",
       "      <td>Martin 202A / Douglas DC-3N93211/N999B</td>\n",
       "      <td>Greater Cincinnati Airport Covington</td>\n",
       "      <td>Kentucky Trans World Airlines / Castleton Inc.</td>\n",
       "      <td>0</td>\n",
       "      <td>15</td>\n",
       "      <td>15</td>\n",
       "      <td>1950s</td>\n",
       "      <td>Winter</td>\n",
       "      <td>0</td>\n",
       "      <td>Total Fatality</td>\n",
       "    </tr>\n",
       "    <tr>\n",
       "      <th>4747</th>\n",
       "      <td>1909</td>\n",
       "      <td>Qtr 3</td>\n",
       "      <td>September</td>\n",
       "      <td>7</td>\n",
       "      <td>France</td>\n",
       "      <td>Wright</td>\n",
       "      <td>Wright ByplaneSC1</td>\n",
       "      <td>Juvisy-sur-Orge France</td>\n",
       "      <td>N/A</td>\n",
       "      <td>0</td>\n",
       "      <td>1</td>\n",
       "      <td>1</td>\n",
       "      <td>1900s</td>\n",
       "      <td>Fall</td>\n",
       "      <td>0</td>\n",
       "      <td>Total Fatality</td>\n",
       "    </tr>\n",
       "    <tr>\n",
       "      <th>1643</th>\n",
       "      <td>2008</td>\n",
       "      <td>Qtr 1</td>\n",
       "      <td>February</td>\n",
       "      <td>21</td>\n",
       "      <td>Venezuela</td>\n",
       "      <td>ATR</td>\n",
       "      <td>ATR  42</td>\n",
       "      <td>Merida Venezuela</td>\n",
       "      <td>Airlines Barbara Santa</td>\n",
       "      <td>0</td>\n",
       "      <td>46</td>\n",
       "      <td>46</td>\n",
       "      <td>2000s</td>\n",
       "      <td>None</td>\n",
       "      <td>0</td>\n",
       "      <td>Total Fatality</td>\n",
       "    </tr>\n",
       "    <tr>\n",
       "      <th>1464</th>\n",
       "      <td>2000</td>\n",
       "      <td>Qtr 1</td>\n",
       "      <td>February</td>\n",
       "      <td>2</td>\n",
       "      <td>Iran</td>\n",
       "      <td>Lockheed</td>\n",
       "      <td>Lockheed C 130 Hercules</td>\n",
       "      <td>Tehran Iran</td>\n",
       "      <td>Force Air Iran Airan of Republic Islamic N/A M...</td>\n",
       "      <td>0</td>\n",
       "      <td>8</td>\n",
       "      <td>8</td>\n",
       "      <td>2000s</td>\n",
       "      <td>None</td>\n",
       "      <td>0</td>\n",
       "      <td>Total Fatality</td>\n",
       "    </tr>\n",
       "  </tbody>\n",
       "</table>\n",
       "</div>"
      ],
      "text/plain": [
       "      Year Quarter      Month  Day Country/Region Aircraft Manufacturer  \\\n",
       "1788  1955   Qtr 1    January   12      Covington         Martin 202A /   \n",
       "4747  1909   Qtr 3  September    7         France                Wright   \n",
       "1643  2008   Qtr 1   February   21      Venezuela                   ATR   \n",
       "1464  2000   Qtr 1   February    2           Iran              Lockheed   \n",
       "\n",
       "                                    Aircraft  \\\n",
       "1788  Martin 202A / Douglas DC-3N93211/N999B   \n",
       "4747                       Wright ByplaneSC1   \n",
       "1643                                 ATR  42   \n",
       "1464                 Lockheed C 130 Hercules   \n",
       "\n",
       "                                  Location  \\\n",
       "1788  Greater Cincinnati Airport Covington   \n",
       "4747                Juvisy-sur-Orge France   \n",
       "1643                      Merida Venezuela   \n",
       "1464                           Tehran Iran   \n",
       "\n",
       "                                               Operator  Ground  \\\n",
       "1788     Kentucky Trans World Airlines / Castleton Inc.       0   \n",
       "4747                                                N/A       0   \n",
       "1643                             Airlines Barbara Santa       0   \n",
       "1464  Force Air Iran Airan of Republic Islamic N/A M...       0   \n",
       "\n",
       "      Fatalities (air)  Aboard Decade  Season  Survivors    Fatality_Bin  \n",
       "1788                15      15  1950s  Winter          0  Total Fatality  \n",
       "4747                 1       1  1900s    Fall          0  Total Fatality  \n",
       "1643                46      46  2000s    None          0  Total Fatality  \n",
       "1464                 8       8  2000s    None          0  Total Fatality  "
      ]
     },
     "execution_count": 181,
     "metadata": {},
     "output_type": "execute_result"
    }
   ],
   "source": [
    "df.sample(4)"
   ]
  },
  {
   "cell_type": "code",
   "execution_count": 182,
   "id": "a6c239ed-0491-497a-98fb-4f2555134467",
   "metadata": {},
   "outputs": [
    {
     "data": {
      "image/png": "[encoded data removed]",
      "text/plain": [
       "<Figure size 600x600 with 1 Axes>"
      ]
     },
     "metadata": {},
     "output_type": "display_data"
    }
   ],
   "source": [
    "\n",
    "bin_counts = df['Fatality_Bin'].value_counts()\n",
    "\n",
    "# Pie Chart\n",
    "plt.figure(figsize=(6,6))\n",
    "plt.pie(\n",
    "    bin_counts.values, \n",
    "    labels=bin_counts.index,  \n",
    "    colors=['red', 'lightgreen', 'blue'],\n",
    "    autopct='%1.1f%%', \n",
    "    wedgeprops={'edgecolor': 'black'}\n",
    ")\n",
    "plt.title('AIR CRASHES FATALITY RATE')\n",
    "plt.show()\n"
   ]
  },
  {
   "cell_type": "code",
   "execution_count": 183,
   "id": "54c1e662-39e8-4b29-81c0-23699c24a3e1",
   "metadata": {},
   "outputs": [
    {
     "data": {
      "text/plain": [
       "Aircraft Manufacturer\n",
       "Douglas                                 996\n",
       "Boeing                                  388\n",
       "Antonov                                 284\n",
       "Lockheed                                211\n",
       "de Havilland Canada                     157\n",
       "                                       ... \n",
       "Lockheed  188A                            1\n",
       "Desoutter                                 1\n",
       "PAC                                       1\n",
       "Sikorsky CH53D / Sikorsky CH53D357 /      1\n",
       "Wright Flyer                              1\n",
       "Name: count, Length: 618, dtype: int64"
      ]
     },
     "execution_count": 183,
     "metadata": {},
     "output_type": "execute_result"
    }
   ],
   "source": [
    "# AIRCRAFT MANUFACTURERS THAT HAVE BEEN INVOLVED IN THE MOST CRASHES \n",
    "\n",
    "df[\"Aircraft Manufacturer\"].value_counts()"
   ]
  },
  {
   "cell_type": "code",
   "execution_count": 184,
   "id": "d0e63277-5416-4823-b3ca-cd552da80424",
   "metadata": {},
   "outputs": [],
   "source": [
    "# the douglas manufacturers have a lot to explain hehe "
   ]
  },
  {
   "cell_type": "code",
   "execution_count": 185,
   "id": "ef3d496a-f2b3-4c0d-a984-8b80b5c5f665",
   "metadata": {},
   "outputs": [
    {
     "data": {
      "text/plain": [
       "Aircraft\n",
       "Boeing B 737                      73\n",
       "Boeing B 727                      57\n",
       "Boeing B 707                      51\n",
       "McDonnell Douglas DC 9            42\n",
       "Douglas C 47A                     40\n",
       "                                  ..\n",
       "Douglas C 54TAM                    1\n",
       "Douglas EC 54UCP                   1\n",
       "Avro 685 York 1G AHEX              1\n",
       "Embraer EMB 110C BandeirantePT     1\n",
       "Douglas DC 6BSE                    1\n",
       "Name: count, Length: 3515, dtype: int64"
      ]
     },
     "execution_count": 185,
     "metadata": {},
     "output_type": "execute_result"
    }
   ],
   "source": [
    "df.Aircraft.value_counts()"
   ]
  },
  {
   "cell_type": "code",
   "execution_count": 186,
   "id": "1a357dee-b61f-49dc-8f7d-4622b2349bed",
   "metadata": {},
   "outputs": [],
   "source": [
    "# cleaning of the Region/Country column\n",
    "# some sort of outliers were among them i.e they were integer variables where string variables are meant to be \n",
    "# i changed those to \"unknown\"\n",
    "# i also saw some with random symbols, also replaced them with \"unknown\"\n",
    "# some string variables in the columns werent in relationship to the name of the column so i also changed those to \"unknown\"\n",
    "# i corrected spelling errors and gramatical errors \n",
    "# those who were in abrreviations who were not common to the public i changed them to the full name for clarity "
   ]
  },
  {
   "cell_type": "code",
   "execution_count": 211,
   "id": "b15c3f1b-3c07-4e4c-87cf-a68a7f83c060",
   "metadata": {},
   "outputs": [
    {
     "data": {
      "text/html": [
       "<div>\n",
       "<style scoped>\n",
       "    .dataframe tbody tr th:only-of-type {\n",
       "        vertical-align: middle;\n",
       "    }\n",
       "\n",
       "    .dataframe tbody tr th {\n",
       "        vertical-align: top;\n",
       "    }\n",
       "\n",
       "    .dataframe thead th {\n",
       "        text-align: right;\n",
       "    }\n",
       "</style>\n",
       "<table border=\"1\" class=\"dataframe\">\n",
       "  <thead>\n",
       "    <tr style=\"text-align: right;\">\n",
       "      <th></th>\n",
       "      <th>Year</th>\n",
       "      <th>Quarter</th>\n",
       "      <th>Month</th>\n",
       "      <th>Day</th>\n",
       "      <th>Country/Region</th>\n",
       "      <th>Aircraft Manufacturer</th>\n",
       "      <th>Aircraft</th>\n",
       "      <th>Location</th>\n",
       "      <th>Operator</th>\n",
       "      <th>Ground</th>\n",
       "      <th>Fatalities (air)</th>\n",
       "      <th>Aboard</th>\n",
       "      <th>Decade</th>\n",
       "      <th>Season</th>\n",
       "      <th>Survivors</th>\n",
       "      <th>Fatality_Bin</th>\n",
       "    </tr>\n",
       "  </thead>\n",
       "  <tbody>\n",
       "    <tr>\n",
       "      <th>0</th>\n",
       "      <td>1970</td>\n",
       "      <td>Qtr 2</td>\n",
       "      <td>April</td>\n",
       "      <td>28</td>\n",
       "      <td>N/A</td>\n",
       "      <td>de Havilland Canada</td>\n",
       "      <td>de Havilland Canada DHC 6 Twin Otter 100VH</td>\n",
       "      <td>Kainatu</td>\n",
       "      <td>Airlines Australia GuineaTrans New</td>\n",
       "      <td>0</td>\n",
       "      <td>8</td>\n",
       "      <td>11</td>\n",
       "      <td>1970s</td>\n",
       "      <td>Spring</td>\n",
       "      <td>3</td>\n",
       "      <td>Non-Total Fatality</td>\n",
       "    </tr>\n",
       "    <tr>\n",
       "      <th>1</th>\n",
       "      <td>1952</td>\n",
       "      <td>Qtr 2</td>\n",
       "      <td>April</td>\n",
       "      <td>30</td>\n",
       "      <td>N/A</td>\n",
       "      <td>Douglas</td>\n",
       "      <td>Douglas Douglas DC-3VT</td>\n",
       "      <td>Delhi</td>\n",
       "      <td>Airways IndiaDeccan</td>\n",
       "      <td>0</td>\n",
       "      <td>9</td>\n",
       "      <td>9</td>\n",
       "      <td>1950s</td>\n",
       "      <td>Spring</td>\n",
       "      <td>0</td>\n",
       "      <td>Total Fatality</td>\n",
       "    </tr>\n",
       "    <tr>\n",
       "      <th>2</th>\n",
       "      <td>1973</td>\n",
       "      <td>Qtr 2</td>\n",
       "      <td>April</td>\n",
       "      <td>10</td>\n",
       "      <td>N/A</td>\n",
       "      <td>Vickers Vanguard</td>\n",
       "      <td>Vickers Vanguard 952G AXOP</td>\n",
       "      <td>Near Basel</td>\n",
       "      <td>(UK) Airlines International SwitzerlandInvicta</td>\n",
       "      <td>0</td>\n",
       "      <td>108</td>\n",
       "      <td>145</td>\n",
       "      <td>1970s</td>\n",
       "      <td>Spring</td>\n",
       "      <td>37</td>\n",
       "      <td>Non-Total Fatality</td>\n",
       "    </tr>\n",
       "    <tr>\n",
       "      <th>3</th>\n",
       "      <td>2000</td>\n",
       "      <td>Qtr 2</td>\n",
       "      <td>April</td>\n",
       "      <td>19</td>\n",
       "      <td>N/A</td>\n",
       "      <td>Antonov</td>\n",
       "      <td>Antonov AN 8TL</td>\n",
       "      <td>Pepa  -</td>\n",
       "      <td>Airlines Centrafricain</td>\n",
       "      <td>0</td>\n",
       "      <td>24</td>\n",
       "      <td>24</td>\n",
       "      <td>2000s</td>\n",
       "      <td>Spring</td>\n",
       "      <td>0</td>\n",
       "      <td>Total Fatality</td>\n",
       "    </tr>\n",
       "    <tr>\n",
       "      <th>4</th>\n",
       "      <td>1946</td>\n",
       "      <td>Qtr 2</td>\n",
       "      <td>April</td>\n",
       "      <td>30</td>\n",
       "      <td>N/A</td>\n",
       "      <td>Douglas</td>\n",
       "      <td>Douglas C 47A FZ559</td>\n",
       "      <td>Pindi-Khut  -</td>\n",
       "      <td>Force Air Royal</td>\n",
       "      <td>0</td>\n",
       "      <td>12</td>\n",
       "      <td>12</td>\n",
       "      <td>1940s</td>\n",
       "      <td>Spring</td>\n",
       "      <td>0</td>\n",
       "      <td>Total Fatality</td>\n",
       "    </tr>\n",
       "    <tr>\n",
       "      <th>5</th>\n",
       "      <td>1960</td>\n",
       "      <td>Qtr 2</td>\n",
       "      <td>April</td>\n",
       "      <td>14</td>\n",
       "      <td>N/A</td>\n",
       "      <td>Douglas</td>\n",
       "      <td>Douglas DC 4</td>\n",
       "      <td>Taipei -</td>\n",
       "      <td>Force Air Thai Royal</td>\n",
       "      <td>0</td>\n",
       "      <td>18</td>\n",
       "      <td>18</td>\n",
       "      <td>1960s</td>\n",
       "      <td>Spring</td>\n",
       "      <td>0</td>\n",
       "      <td>Total Fatality</td>\n",
       "    </tr>\n",
       "    <tr>\n",
       "      <th>6</th>\n",
       "      <td>2024</td>\n",
       "      <td>Qtr 2</td>\n",
       "      <td>April</td>\n",
       "      <td>23</td>\n",
       "      <td>Alaska</td>\n",
       "      <td>Douglas</td>\n",
       "      <td>Douglas C-54D Skymaster N3054V</td>\n",
       "      <td>Near Fairbanks</td>\n",
       "      <td>Alaska Air Fuel</td>\n",
       "      <td>0</td>\n",
       "      <td>2</td>\n",
       "      <td>2</td>\n",
       "      <td>2020s</td>\n",
       "      <td>Spring</td>\n",
       "      <td>0</td>\n",
       "      <td>Total Fatality</td>\n",
       "    </tr>\n",
       "    <tr>\n",
       "      <th>7</th>\n",
       "      <td>1958</td>\n",
       "      <td>Qtr 2</td>\n",
       "      <td>April</td>\n",
       "      <td>21</td>\n",
       "      <td>N/A</td>\n",
       "      <td>Douglas</td>\n",
       "      <td>Douglas DC 7 / F</td>\n",
       "      <td>Near Sloan 10</td>\n",
       "      <td>Nevada      Vegas Las of SW miles United Air L...</td>\n",
       "      <td>0</td>\n",
       "      <td>49</td>\n",
       "      <td>49</td>\n",
       "      <td>1950s</td>\n",
       "      <td>Spring</td>\n",
       "      <td>0</td>\n",
       "      <td>Total Fatality</td>\n",
       "    </tr>\n",
       "    <tr>\n",
       "      <th>8</th>\n",
       "      <td>1997</td>\n",
       "      <td>Qtr 2</td>\n",
       "      <td>April</td>\n",
       "      <td>23</td>\n",
       "      <td>Afghanistan</td>\n",
       "      <td>Antonov</td>\n",
       "      <td>Antonov AN 26</td>\n",
       "      <td>Near Konduz Afghanistan</td>\n",
       "      <td>Force Air Republican Afghan N/A Military</td>\n",
       "      <td>0</td>\n",
       "      <td>36</td>\n",
       "      <td>36</td>\n",
       "      <td>1990s</td>\n",
       "      <td>Spring</td>\n",
       "      <td>0</td>\n",
       "      <td>Total Fatality</td>\n",
       "    </tr>\n",
       "    <tr>\n",
       "      <th>9</th>\n",
       "      <td>1988</td>\n",
       "      <td>Qtr 2</td>\n",
       "      <td>April</td>\n",
       "      <td>10</td>\n",
       "      <td>Afghanistan</td>\n",
       "      <td>Antonov</td>\n",
       "      <td>Antonov AN 26</td>\n",
       "      <td>Near Mazâr-e Charif Afghanistan</td>\n",
       "      <td>Force Air Republican Afghan N/A Military</td>\n",
       "      <td>0</td>\n",
       "      <td>29</td>\n",
       "      <td>29</td>\n",
       "      <td>1980s</td>\n",
       "      <td>Spring</td>\n",
       "      <td>0</td>\n",
       "      <td>Total Fatality</td>\n",
       "    </tr>\n",
       "  </tbody>\n",
       "</table>\n",
       "</div>"
      ],
      "text/plain": [
       "   Year Quarter  Month  Day Country/Region Aircraft Manufacturer  \\\n",
       "0  1970   Qtr 2  April   28            N/A   de Havilland Canada   \n",
       "1  1952   Qtr 2  April   30            N/A               Douglas   \n",
       "2  1973   Qtr 2  April   10            N/A      Vickers Vanguard   \n",
       "3  2000   Qtr 2  April   19            N/A               Antonov   \n",
       "4  1946   Qtr 2  April   30            N/A               Douglas   \n",
       "5  1960   Qtr 2  April   14            N/A               Douglas   \n",
       "6  2024   Qtr 2  April   23         Alaska               Douglas   \n",
       "7  1958   Qtr 2  April   21            N/A               Douglas   \n",
       "8  1997   Qtr 2  April   23    Afghanistan               Antonov   \n",
       "9  1988   Qtr 2  April   10    Afghanistan               Antonov   \n",
       "\n",
       "                                     Aircraft  \\\n",
       "0  de Havilland Canada DHC 6 Twin Otter 100VH   \n",
       "1                      Douglas Douglas DC-3VT   \n",
       "2                  Vickers Vanguard 952G AXOP   \n",
       "3                              Antonov AN 8TL   \n",
       "4                         Douglas C 47A FZ559   \n",
       "5                                Douglas DC 4   \n",
       "6              Douglas C-54D Skymaster N3054V   \n",
       "7                            Douglas DC 7 / F   \n",
       "8                               Antonov AN 26   \n",
       "9                               Antonov AN 26   \n",
       "\n",
       "                          Location  \\\n",
       "0                          Kainatu   \n",
       "1                            Delhi   \n",
       "2                       Near Basel   \n",
       "3                          Pepa  -   \n",
       "4                    Pindi-Khut  -   \n",
       "5                         Taipei -   \n",
       "6                   Near Fairbanks   \n",
       "7                    Near Sloan 10   \n",
       "8          Near Konduz Afghanistan   \n",
       "9  Near Mazâr-e Charif Afghanistan   \n",
       "\n",
       "                                            Operator  Ground  \\\n",
       "0                 Airlines Australia GuineaTrans New       0   \n",
       "1                                Airways IndiaDeccan       0   \n",
       "2     (UK) Airlines International SwitzerlandInvicta       0   \n",
       "3                             Airlines Centrafricain       0   \n",
       "4                                    Force Air Royal       0   \n",
       "5                               Force Air Thai Royal       0   \n",
       "6                                    Alaska Air Fuel       0   \n",
       "7  Nevada      Vegas Las of SW miles United Air L...       0   \n",
       "8           Force Air Republican Afghan N/A Military       0   \n",
       "9           Force Air Republican Afghan N/A Military       0   \n",
       "\n",
       "   Fatalities (air)  Aboard Decade  Season  Survivors        Fatality_Bin  \n",
       "0                 8      11  1970s  Spring          3  Non-Total Fatality  \n",
       "1                 9       9  1950s  Spring          0      Total Fatality  \n",
       "2               108     145  1970s  Spring         37  Non-Total Fatality  \n",
       "3                24      24  2000s  Spring          0      Total Fatality  \n",
       "4                12      12  1940s  Spring          0      Total Fatality  \n",
       "5                18      18  1960s  Spring          0      Total Fatality  \n",
       "6                 2       2  2020s  Spring          0      Total Fatality  \n",
       "7                49      49  1950s  Spring          0      Total Fatality  \n",
       "8                36      36  1990s  Spring          0      Total Fatality  \n",
       "9                29      29  1980s  Spring          0      Total Fatality  "
      ]
     },
     "execution_count": 211,
     "metadata": {},
     "output_type": "execute_result"
    }
   ],
   "source": [
    "df.head(10)"
   ]
  },
  {
   "cell_type": "code",
   "execution_count": null,
   "id": "247f1da1-62b6-4e7f-a8e7-f41a9d633750",
   "metadata": {},
   "outputs": [],
   "source": []
  }
 ],
 "metadata": {
  "kernelspec": {
   "display_name": "Python [conda env:base] *",
   "language": "python",
   "name": "conda-base-py"
  },
  "language_info": {
   "codemirror_mode": {
    "name": "ipython",
    "version": 3
   },
   "file_extension": ".py",
   "mimetype": "text/x-python",
   "name": "python",
   "nbconvert_exporter": "python",
   "pygments_lexer": "ipython3",
   "version": "3.12.7"
  }
 },
 "nbformat": 4,
 "nbformat_minor": 5
}
