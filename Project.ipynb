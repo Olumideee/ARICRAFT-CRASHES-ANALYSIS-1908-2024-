{
 "cells": [
  {
   "cell_type": "markdown",
   "id": "ed1e3fb7",
   "metadata": {},
   "source": [
    "# AROWOSAYE SAMUEL OLUMIDE \n",
    "## DATA ANALYSIS PROJECT 2025\n",
    "## ARICRAFT CRASHES ANALYSIS(1908-2024)"
   ]
  },
  {
   "cell_type": "markdown",
   "id": "fbb9aac7",
   "metadata": {},
   "source": [
    "### BASIC QUESTIONS \n",
    "- what are the total number of reported cases \n",
    "\n",
    "- what is the total number of fatalities \n",
    "\n",
    "- what is the total number of countries affected \n",
    "\n",
    "- the total number of passengers aboard before the crashes happened \n",
    "\n",
    "- the total number  survivors\n",
    "\n",
    "### RESEARCH QUESTIONS\n",
    "- the top 5 countries with the highest aircrashes \n",
    "\n",
    "- the aircraft manufacturers with the most recorded cases \n",
    "\n",
    "- the sircraft operators with the most recorded cases \n",
    "\n",
    "- the aircraft with the most aircrashes \n",
    "\n",
    "- the ate of change per decade with the number of reported sircrashes \n",
    "\n",
    "- aircrashes that happened the most in a particular season\n",
    "\n",
    "- the month aircrashes happened the most in \n",
    "\n",
    "- what is the fatality rate in relation to the total survival rate and partial survival rate \n",
    "\n",
    "#### Included is a heat map \n"
   ]
  },
  {
   "cell_type": "markdown",
   "id": "e27c33c7",
   "metadata": {},
   "source": [
    "import seaborn as sns\n",
    "import pandas as pd\n",
    "import matplotlib.pyplot as plt \n",
    "import statistics as st\n",
    "import numpy as np"
   ]
  },
  {
   "cell_type": "markdown",
   "id": "3e89b038",
   "metadata": {},
   "source": [
    "# EDA"
   ]
  },
  {
   "cell_type": "markdown",
   "id": "a9dcfe87",
   "metadata": {},
   "source": [
    "#### This EDA  explores the data named \"aircrahesFullDataUpdated_2024\" AIRCRAFT CRASHES that occured between the year 1908 - 2024. The goal is to analyze this data and bring out key component that could help reduce the amount of crashes that happen each year "
   ]
  },
  {
   "cell_type": "markdown",
   "id": "4a4673fa",
   "metadata": {},
   "source": [
    "## IMPORTING AND LOADING OF THE DATA "
   ]
  },
  {
   "cell_type": "code",
   "execution_count": 2,
   "id": "146b10c0",
   "metadata": {},
   "outputs": [],
   "source": [
    "import seaborn as sns\n",
    "import pandas as pd\n",
    "import matplotlib.pyplot as plt \n",
    "import statistics as st\n",
    "import numpy as np"
   ]
  },
  {
   "cell_type": "code",
   "execution_count": 3,
   "id": "b657c551",
   "metadata": {},
   "outputs": [
    {
     "data": {
      "text/html": [
       "<div>\n",
       "<style scoped>\n",
       "    .dataframe tbody tr th:only-of-type {\n",
       "        vertical-align: middle;\n",
       "    }\n",
       "\n",
       "    .dataframe tbody tr th {\n",
       "        vertical-align: top;\n",
       "    }\n",
       "\n",
       "    .dataframe thead th {\n",
       "        text-align: right;\n",
       "    }\n",
       "</style>\n",
       "<table border=\"1\" class=\"dataframe\">\n",
       "  <thead>\n",
       "    <tr style=\"text-align: right;\">\n",
       "      <th></th>\n",
       "      <th>Year</th>\n",
       "      <th>Quarter</th>\n",
       "      <th>Month</th>\n",
       "      <th>Day</th>\n",
       "      <th>Country/Region</th>\n",
       "      <th>Aircraft Manufacturer</th>\n",
       "      <th>Aircraft</th>\n",
       "      <th>Location</th>\n",
       "      <th>Operator</th>\n",
       "      <th>Ground</th>\n",
       "      <th>Fatalities (air)</th>\n",
       "      <th>Aboard</th>\n",
       "    </tr>\n",
       "  </thead>\n",
       "  <tbody>\n",
       "    <tr>\n",
       "      <th>0</th>\n",
       "      <td>1970</td>\n",
       "      <td>Qtr 2</td>\n",
       "      <td>April</td>\n",
       "      <td>28</td>\n",
       "      <td>NaN</td>\n",
       "      <td>de Havilland Canada</td>\n",
       "      <td>de Havilland Canada DHC 6 Twin Otter 100VH</td>\n",
       "      <td>Kainatu</td>\n",
       "      <td>Airlines Australia GuineaTrans New</td>\n",
       "      <td>0</td>\n",
       "      <td>8</td>\n",
       "      <td>11</td>\n",
       "    </tr>\n",
       "    <tr>\n",
       "      <th>1</th>\n",
       "      <td>1952</td>\n",
       "      <td>Qtr 2</td>\n",
       "      <td>April</td>\n",
       "      <td>30</td>\n",
       "      <td>NaN</td>\n",
       "      <td>Douglas</td>\n",
       "      <td>Douglas DC 3VT</td>\n",
       "      <td>Delhi</td>\n",
       "      <td>Airways IndiaDeccan</td>\n",
       "      <td>0</td>\n",
       "      <td>9</td>\n",
       "      <td>9</td>\n",
       "    </tr>\n",
       "    <tr>\n",
       "      <th>2</th>\n",
       "      <td>1973</td>\n",
       "      <td>Qtr 2</td>\n",
       "      <td>April</td>\n",
       "      <td>10</td>\n",
       "      <td>NaN</td>\n",
       "      <td>Vickers Vanguard</td>\n",
       "      <td>Vickers Vanguard 952G AXOP</td>\n",
       "      <td>Near Basel</td>\n",
       "      <td>(UK) Airlines International SwitzerlandInvicta</td>\n",
       "      <td>0</td>\n",
       "      <td>108</td>\n",
       "      <td>145</td>\n",
       "    </tr>\n",
       "    <tr>\n",
       "      <th>3</th>\n",
       "      <td>2000</td>\n",
       "      <td>Qtr 2</td>\n",
       "      <td>April</td>\n",
       "      <td>19</td>\n",
       "      <td>'-</td>\n",
       "      <td>Antonov</td>\n",
       "      <td>Antonov AN 8TL</td>\n",
       "      <td>Pepa  -</td>\n",
       "      <td>Airlines Centrafricain</td>\n",
       "      <td>0</td>\n",
       "      <td>24</td>\n",
       "      <td>24</td>\n",
       "    </tr>\n",
       "    <tr>\n",
       "      <th>4</th>\n",
       "      <td>1946</td>\n",
       "      <td>Qtr 2</td>\n",
       "      <td>April</td>\n",
       "      <td>30</td>\n",
       "      <td>'-</td>\n",
       "      <td>Douglas</td>\n",
       "      <td>Douglas C 47A FZ559</td>\n",
       "      <td>Pindi-Khut  -</td>\n",
       "      <td>Force Air Royal</td>\n",
       "      <td>0</td>\n",
       "      <td>12</td>\n",
       "      <td>12</td>\n",
       "    </tr>\n",
       "  </tbody>\n",
       "</table>\n",
       "</div>"
      ],
      "text/plain": [
       "   Year Quarter  Month  Day Country/Region Aircraft Manufacturer  \\\n",
       "0  1970   Qtr 2  April   28            NaN   de Havilland Canada   \n",
       "1  1952   Qtr 2  April   30            NaN               Douglas   \n",
       "2  1973   Qtr 2  April   10            NaN      Vickers Vanguard   \n",
       "3  2000   Qtr 2  April   19             '-               Antonov   \n",
       "4  1946   Qtr 2  April   30             '-               Douglas   \n",
       "\n",
       "                                     Aircraft       Location  \\\n",
       "0  de Havilland Canada DHC 6 Twin Otter 100VH        Kainatu   \n",
       "1                              Douglas DC 3VT          Delhi   \n",
       "2                  Vickers Vanguard 952G AXOP     Near Basel   \n",
       "3                              Antonov AN 8TL        Pepa  -   \n",
       "4                         Douglas C 47A FZ559  Pindi-Khut  -   \n",
       "\n",
       "                                         Operator  Ground  Fatalities (air)  \\\n",
       "0              Airlines Australia GuineaTrans New       0                 8   \n",
       "1                             Airways IndiaDeccan       0                 9   \n",
       "2  (UK) Airlines International SwitzerlandInvicta       0               108   \n",
       "3                          Airlines Centrafricain       0                24   \n",
       "4                                 Force Air Royal       0                12   \n",
       "\n",
       "   Aboard  \n",
       "0      11  \n",
       "1       9  \n",
       "2     145  \n",
       "3      24  \n",
       "4      12  "
      ]
     },
     "execution_count": 3,
     "metadata": {},
     "output_type": "execute_result"
    }
   ],
   "source": [
    "# LOADING AND OPENING OF THE DATA SET \n",
    "\n",
    "df = pd.read_csv(\"C:/Users/USER/python/dataapps2/aircrahesFullDataUpdated_2024.csv\")\n",
    "df.head(5)"
   ]
  },
  {
   "cell_type": "markdown",
   "id": "c3fb59c1",
   "metadata": {},
   "source": [
    "## CLEANING OF THE DATA "
   ]
  },
  {
   "cell_type": "code",
   "execution_count": 4,
   "id": "4558d22a",
   "metadata": {},
   "outputs": [
    {
     "data": {
      "text/plain": [
       "Year                       0\n",
       "Quarter                    0\n",
       "Month                      0\n",
       "Day                        0\n",
       "Country/Region           230\n",
       "Aircraft Manufacturer      0\n",
       "Aircraft                   0\n",
       "Location                   0\n",
       "Operator                 234\n",
       "Ground                     0\n",
       "Fatalities (air)           0\n",
       "Aboard                     0\n",
       "dtype: int64"
      ]
     },
     "execution_count": 4,
     "metadata": {},
     "output_type": "execute_result"
    }
   ],
   "source": [
    "# FINDING OUT THE AMOUNT OF NULL VARIABLES IN THE DATA \n",
    "\n",
    "df.isnull().sum()"
   ]
  },
  {
   "cell_type": "code",
   "execution_count": 6,
   "id": "54145273",
   "metadata": {},
   "outputs": [],
   "source": [
    "# REPLACING THE NULL VARIABLES WITH A VARIABLE \n",
    "\n",
    "df[\"Country/Region\"].fillna(\"N/A\", inplace=True)\n",
    "df[\"Operator\"].fillna(\"N/A\", inplace=True)"
   ]
  },
  {
   "cell_type": "code",
   "execution_count": 8,
   "id": "013b49e3",
   "metadata": {},
   "outputs": [
    {
     "data": {
      "text/plain": [
       "Year                     0\n",
       "Quarter                  0\n",
       "Month                    0\n",
       "Day                      0\n",
       "Country/Region           0\n",
       "Aircraft Manufacturer    0\n",
       "Aircraft                 0\n",
       "Location                 0\n",
       "Operator                 0\n",
       "Ground                   0\n",
       "Fatalities (air)         0\n",
       "Aboard                   0\n",
       "dtype: int64"
      ]
     },
     "execution_count": 8,
     "metadata": {},
     "output_type": "execute_result"
    }
   ],
   "source": [
    "# CHECKING IF THE NULL VARIABLES HAVE BEEN REMOVED \n",
    "\n",
    "df.isnull().sum()"
   ]
  },
  {
   "cell_type": "code",
   "execution_count": 6,
   "id": "abcaf1bb",
   "metadata": {},
   "outputs": [
    {
     "data": {
      "text/plain": [
       "array([1970, 1952, 1973, 2000, 1946, 1960, 2024, 1958, 1997, 1988, 1993,\n",
       "       2006, 2013, 1994, 1956, 1976, 1983, 1964, 1982, 1944, 1957, 1967,\n",
       "       2018, 2001, 1954, 1985, 1921, 1945, 1942, 2008, 1966, 1969, 1974,\n",
       "       1981, 1980, 1953, 1984, 1999, 1972, 2011, 1947, 1933, 1992, 1929,\n",
       "       1979, 1955, 1991, 1965, 2007, 1961, 1968, 2019, 1934, 1922, 1989,\n",
       "       2002, 2012, 1998, 1986, 1978, 1950, 1962, 1977, 1951, 1996, 2009,\n",
       "       1990, 2014, 1935, 1936, 1927, 1931, 1948, 1932, 2005, 1987, 1938,\n",
       "       2010, 1959, 1939, 1924, 1943, 1918, 1971, 1920, 1930, 1995, 1963,\n",
       "       2016, 1949, 1940, 1975, 1925, 1928, 2004, 2003, 1937, 1941, 1913,\n",
       "       2020, 2015, 1919, 1926, 1917, 1923, 2021, 2017, 2023, 1916, 2022,\n",
       "       1912, 1915, 1909, 1908])"
      ]
     },
     "execution_count": 6,
     "metadata": {},
     "output_type": "execute_result"
    }
   ],
   "source": [
    "# CLEANING OF THE YEAR COLUMNS \n",
    "\n",
    "df.Year.unique()"
   ]
  },
  {
   "cell_type": "code",
   "execution_count": 9,
   "id": "515d2278",
   "metadata": {},
   "outputs": [],
   "source": [
    "#  THE DATA IN THE YEAR COLUMN EXHIBETED NO ANOMALIES OR OUTLIERS, MAKING IT CLEAN "
   ]
  },
  {
   "cell_type": "code",
   "execution_count": 10,
   "id": "4a37e784",
   "metadata": {},
   "outputs": [
    {
     "data": {
      "text/plain": [
       "array(['Qtr 2', 'Qtr 3', 'Qtr 4', 'Qtr 1'], dtype=object)"
      ]
     },
     "execution_count": 10,
     "metadata": {},
     "output_type": "execute_result"
    }
   ],
   "source": [
    "# CLEANING OF THE QUATER COLUMN \n",
    "\n",
    "df.Quarter.unique()"
   ]
  },
  {
   "cell_type": "code",
   "execution_count": 11,
   "id": "4d820dcd",
   "metadata": {},
   "outputs": [],
   "source": [
    "#  THE DATA IN THE YEAR COLUMN EXHIBETED NO ANOMALIES OR OUTLIERS, MAKING IT CLEAN "
   ]
  },
  {
   "cell_type": "code",
   "execution_count": 12,
   "id": "f4e07cea",
   "metadata": {},
   "outputs": [
    {
     "data": {
      "text/plain": [
       "array(['April', 'August', 'December', 'February', 'January', 'July',\n",
       "       'June', 'March', 'May', 'November', 'October', 'September'],\n",
       "      dtype=object)"
      ]
     },
     "execution_count": 12,
     "metadata": {},
     "output_type": "execute_result"
    }
   ],
   "source": [
    "# CLEANING OF THE MONTH COLUMN\n",
    "\n",
    "df.Month.unique()"
   ]
  },
  {
   "cell_type": "code",
   "execution_count": 13,
   "id": "c46f422f",
   "metadata": {},
   "outputs": [],
   "source": [
    "#  THE DATA IN THE YEAR COLUMN EXHIBETED NO ANOMALIES OR OUTLIERS, MAKING IT CLEAN "
   ]
  },
  {
   "cell_type": "code",
   "execution_count": null,
   "id": "1df0b71a",
   "metadata": {},
   "outputs": [],
   "source": [
    "# CLEANING OF THE DAY COLUMN\n",
    "\n",
    "df.Day.unique()"
   ]
  },
  {
   "cell_type": "code",
   "execution_count": 14,
   "id": "bef38f5b",
   "metadata": {},
   "outputs": [],
   "source": [
    "#  THE DATA IN THE YEAR COLUMN EXHIBETED NO ANOMALIES OR OUTLIERS, MAKING IT CLEAN "
   ]
  },
  {
   "cell_type": "code",
   "execution_count": 24,
   "id": "031a968f",
   "metadata": {},
   "outputs": [],
   "source": [
    "# CLEANING OF THE COUNTY/REGION COLUMN \n",
    "\n",
    "df.loc[:, \"Country/Region\"] = df[\"Country/Region\"].str.replace(\"10\", \"N/A\")\n",
    "df.loc[:, \"Country/Region\"] = df[\"Country/Region\"].str.replace(\"'-\", \"N/A\")\n",
    "df[\"Country/Region\"] = df[\"Country/Region\"].replace([\"Brazil\\tAmazonaves\", \"Brazil\\r\\nFlorianopolis\", \"Brazil\\tLoide\"], \"Brazil\")\n",
    "df.loc[:, \"Country/Region\"] = df[\"Country/Region\"].str.replace(\"Chile\\tAerolineas\", \"Brazil\")\n",
    "df.loc[:, \"Country/Region\"] = df[\"Country/Region\"].str.replace(\"USSRAerflot\", \"N/A\")\n",
    "df.loc[:, \"Country/Region\"] = df[\"Country/Region\"].str.replace(\"Western\", \"N/A\")\n",
    "df.loc[:, \"Country/Region\"] = df[\"Country/Region\"].str.replace(\"Bias\", \"N/A\")\n",
    "df.loc[:, \"Country/Region\"] = df[\"Country/Region\"].str.replace(\"18\", \"N/A\")\n",
    "df.loc[:, \"Country/Region\"] = df[\"Country/Region\"].str.replace(\"570\", \"N/A\")\n",
    "df.loc[:, \"Country/Region\"] = df[\"Country/Region\"].str.replace(\"800\", \"N/A\")\n",
    "df.loc[:, \"Country/Region\"] = df[\"Country/Region\"].str.replace(\"near\", \"N/A\")\n",
    "df.loc[:, \"Country/Region\"] = df[\"Country/Region\"].str.replace(\"USSRAeroflot\", \"N/A\")\n",
    "df.loc[:, \"Country/Region\"] = df[\"Country/Region\"].str.replace(\"unknown0\", \"N/A\")\n",
    "df.loc[:, \"Country/Region\"] = df[\"Country/Region\"].str.replace(\"San\", \"N/A\")\n",
    "df.loc[:, \"Country/Region\"] = df[\"Country/Region\"].str.replace(\"Spain\\r\\n\\t\\r\\nMoron\", \"Spain\")\n",
    "df.loc[:, \"Country/Region\"] = df[\"Country/Region\"].str.replace(\"United\", \"U.S.A\")\n",
    "df.loc[:, \"Country/Region\"] = df[\"Country/Region\"].str.replace(\"Upper\", \"N/A\")\n",
    "df.loc[:, \"Country/Region\"] = df[\"Country/Region\"].str.replace(\"HIPan\", \"N/A\")\n",
    "df.loc[:, \"Country/Region\"] = df[\"Country/Region\"].str.replace(\"Indonesia\\r\\n\\t\\r\\nSarmi\", \"Indonesia\")\n",
    "df.loc[:, \"Country/Region\"] = df[\"Country/Region\"].str.replace(\"Los\", \"N/A\")\n",
    "df.loc[:, \"Country/Region\"] = df[\"Country/Region\"].str.replace(\"Margarita\", \"N/A\")\n",
    "df.loc[:, \"Country/Region\"] = df[\"Country/Region\"].str.replace(\"qld\", \"Queensland\")\n",
    "df.loc[:, \"Country/Region\"] = df[\"Country/Region\"].str.replace(\"Qld\", \"Queensland\")\n",
    "df.loc[:, \"Country/Region\"] = df[\"Country/Region\"].str.replace(\"1unknown\", \"N/A\")\n",
    "df.loc[:, \"Country/Region\"] = df[\"Country/Region\"].str.replace(\"Azerbaijan\\r\\n\\t\\r\\nBakou\", \"Azerbaijan\")\n",
    "df.loc[:, \"Country/Region\"] = df[\"Country/Region\"].str.replace(\"CADuncan\", \"N/A\")\n",
    "df.loc[:, \"Country/Region\"] = df[\"Country/Region\"].str.replace(\"USSRBalkan\", \"Balkan\")\n",
    "df.loc[:, \"Country/Region\"] = df[\"Country/Region\"].str.replace(\"FL\", \"Florida\")\n",
    "df.loc[:, \"Country/Region\"] = df[\"Country/Region\"].str.replace(\"CAMilitary\", \"N/A\")\n",
    "df.loc[:, \"Country/Region\"] = df[\"Country/Region\"].str.replace(\"Inner\", \"N/A\")\n",
    "df.loc[:, \"Country/Region\"] = df[\"Country/Region\"].str.replace(\"Democtratic\", \"N/A\")\n",
    "df.loc[:, \"Country/Region\"] = df[\"Country/Region\"].str.replace(\"Djibouti\\r\\n\\tDjibouti\", \"Djibouti\")\n",
    "df.loc[:, \"Country/Region\"] = df[\"Country/Region\"].str.replace(\"Tajikistan\\tMilitary\", \"Tajikistan\")\n",
    "df.loc[:, \"Country/Region\"] = df[\"Country/Region\"].str.replace(\"Norway\\tCHC\", \"Norway\")\n",
    "df.loc[:, \"Country/Region\"] = df[\"Country/Region\"].str.replace(\"NYUS\", \"NewYork\")\n",
    "df.loc[:, \"Country/Region\"] = df[\"Country/Region\"].str.replace(\"South-West\", \"unknown\")\n",
    "df.loc[:, \"Country/Region\"] = df[\"Country/Region\"].str.replace(\"Azerbaijan\\r\\n\\t\\r\\nBakou\", \"Azerbaijan\")\n",
    "df['Country/Region'] = df['Country/Region'].replace(['NSW', 'New', 'SK', 'BC', 'PQ', 'San', 'Da', 'WA', 'El', 'PE', 'nsw', 'OLD', 'QC', 'Mt', 'N', 'FL', \"de\", 'ON', 'SK'], 'N/A')\n",
    "df[\"Country/Region\"] = df[\"Country/Region\"].replace([\"Brazil\\tAmazonaves\", \"Brazil\\r\\nFlorianopolis\", \"Brazil\\tLoide\"], \"Brazil\")\n",
    "df.loc[:, \"Country/Region\"] = df[\"Country/Region\"].str.replace(\"Chile\\tAerolineas\", \"Brazil\")\n",
    "df.loc[:, \"Country/Region\"] = df[\"Country/Region\"].str.replace(\"USSRAerflot\", \"N/A\")\n",
    "df.loc[:, \"Country/Region\"] = df[\"Country/Region\"].str.replace(\"Western\", \"N/A\")\n",
    "df.loc[:, \"Country/Region\"] = df[\"Country/Region\"].str.replace(\"Bias\", \"N/A\")\n",
    "df['Country/Region'] = df['Country/Region'].replace(\"US\", 'U.S.A')\n",
    "df.loc[:, \"Country/Region\"] = df[\"Country/Region\"].str.replace(\"USSRMilitary\", \"N/A\")\n",
    "df.loc[:, \"Country/Region\"] = df[\"Country/Region\"].str.replace(\"SC\", \"N/A\")\n",
    "df.loc[:, \"Country/Region\"] = df[\"Country/Region\"].str.replace(\"?\", \"\")\n",
    "df.loc[:, \"Country/Region\"] = df[\"Country/Region\"].str.replace(\"U.S,ASRMilitary\", \"U.S.A\")"
   ]
  },
  {
   "cell_type": "code",
   "execution_count": 16,
   "id": "d29bbcf3",
   "metadata": {},
   "outputs": [],
   "source": [
    "# THE COLUMN HAS NOW BEEN CLEANED AND IS NOW FREE FROM INCONSITENCIES AND ANOMALIES "
   ]
  },
  {
   "cell_type": "code",
   "execution_count": 25,
   "id": "a862d738",
   "metadata": {},
   "outputs": [],
   "source": [
    "# CLEANING OF THE AIRCRAFT MANUFACTURERS COLUMNS \n",
    "\n",
    "df.loc[:, \"Aircraft Manufacturer\"] = df[\"Aircraft Manufacturer\"].str.replace(\"?\", \"\")\n",
    "df.loc[:, \"Aircraft Manufacturer\"] = df[\"Aircraft Manufacturer\"].str.replace(\"??\", \"N/A\")\n",
    "df['Aircraft Manufacturer'] = df['Aircraft Manufacturer'].replace([\"HS\", \"C\", \"H\", \"A\", \"F\", \"VP\", \"FALSE\", \"CH\", \"Mi\"], 'N/A')\n",
    "df.loc[:, \"Aircraft Manufacturer\"] = df[\"Aircraft Manufacturer\"].str.replace(\"Doublas\", \"Douglas\")\n",
    "df.loc[:, \"Aircraft Manufacturer\"] = df[\"Aircraft Manufacturer\"].str.replace(\"Short\", \"Short Brothers\")\n",
    "df.loc[:, \"Aircraft Manufacturer\"] = df[\"Aircraft Manufacturer\"].str.replace(\"139\", \"N/A\")\n",
    "df.loc[:, \"Aircraft Manufacturer\"] = df[\"Aircraft Manufacturer\"].str.replace(\"42\", \"N/A\")\n",
    "df.loc[:, \"Aircraft Manufacturer\"] = df[\"Aircraft Manufacturer\"].str.replace(\"Unknown /\", \"N/A\")\n",
    "df['Aircraft Manufacturer'] = df['Aircraft Manufacturer'].replace(\"NAMC\", \"Nihon Aircraft Manufacturing Corporation\")\n",
    "df['Aircraft Manufacturer'] = df['Aircraft Manufacturer'].replace(\"Mil\", 'Military')\n",
    "df.loc[:, \"Aircraft Manufacturer\"] = df[\"Aircraft Manufacturer\"].str.replace(\"Swallow\\r\\nSwallow\", \"Swallow\")\n"
   ]
  },
  {
   "cell_type": "code",
   "execution_count": 18,
   "id": "f405d0fc",
   "metadata": {},
   "outputs": [],
   "source": [
    "# THE COLUMN HAS NOW BEEN CLEANED AND IS NOW FREE FROM INCONSITENCIES AND ANOMALIES "
   ]
  },
  {
   "cell_type": "code",
   "execution_count": 26,
   "id": "a3f687df",
   "metadata": {},
   "outputs": [],
   "source": [
    "# CLEANING OF THE AIRCRAFT COLUMN \n",
    "\n",
    "df.loc[:, \"Aircraft\"] = df[\"Aircraft\"].str.replace(\"??\", \"N/A\")\n",
    "df.loc[:, \"Aircraft\"] = df[\"Aircraft\"].str.replace(\"?\", \"\")\n",
    "df.loc[:, \"Aircraft\"] = df[\"Aircraft\"].str.replace(\"139\", \"N/A\")\n",
    "df.loc[:, \"Aircraft\"] = df[\"Aircraft\"].str.replace(\"Li 2/ Li\", \"Lisunov Li-2\")\n",
    "df.loc[:, \"Aircraft\"] = df[\"Aircraft\"].str.replace(\"DC 3\", \"Douglas DC-3\")\n",
    "df.loc[:, \"Aircraft\"] = df[\"Aircraft\"].str.replace(\"Swallow Swallow\", \"Swallow\")\n"
   ]
  },
  {
   "cell_type": "code",
   "execution_count": 20,
   "id": "49c06cd0",
   "metadata": {},
   "outputs": [],
   "source": [
    "# THE COLUMN HAS NOW BEEN CLEANED AND IS NOW FREE FROM INCONSITENCIES AND ANOMALIES "
   ]
  },
  {
   "cell_type": "code",
   "execution_count": 27,
   "id": "7d95bb1d",
   "metadata": {},
   "outputs": [],
   "source": [
    "# CLEANING OF THE LOCATION COLUMN\n",
    "\n",
    "df.loc[:, \"Location\"] = df[\"Location\"].str.replace(\"?\", \"\")\n",
    "df.loc[:, \"Location\"] = df[\"Location\"].str.replace(\"Aeroflot\", \"N/A\")"
   ]
  },
  {
   "cell_type": "code",
   "execution_count": 22,
   "id": "8a4a6e7a",
   "metadata": {},
   "outputs": [],
   "source": [
    "# THE COLUMN HAS NOW BEEN CLEANED AND IS NOW FREE FROM INCONSITENCIES AND ANOMALIES "
   ]
  },
  {
   "cell_type": "code",
   "execution_count": 28,
   "id": "8e5d142d",
   "metadata": {},
   "outputs": [],
   "source": [
    "# CLEANING OF THE OPERATOR COLUMN \n",
    "\n",
    "df.loc[:, \"Operator\"] = df[\"Operator\"].str.replace(\"-\", \"N/A\")\n",
    "df.loc[:, \"Operator\"] = df[\"Operator\"].str.replace(\"YPF\", \"N/A\")\n",
    "df.loc[:, \"Operator\"] = df[\"Operator\"].str.replace(\"Aeroput\", \"N/A\")\n",
    "df.loc[:, \"Operator\"] = df[\"Operator\"].str.replace(\"York?\", \"N/A\")\n",
    "df.loc[:, \"Operator\"] = df[\"Operator\"].str.replace(\"?\", \"N/A\")\n",
    "df.loc[:, \"Operator\"] = df[\"Operator\"].str.replace(\"Sabena\", \"N/A\")\n",
    "df.loc[:, \"Operator\"] = df[\"Operator\"].str.replace(\"Travel\", \"N/A\")\n",
    "df.loc[:, \"Operator\"] = df[\"Operator\"].str.replace(\"AREA\", \"N/A\")\n",
    "df.loc[:, \"Operator\"] = df[\"Operator\"].str.replace(\"Egypt\", \"N/A\")\n",
    "df.loc[:, \"Operator\"] = df[\"Operator\"].str.replace(\"REAL\", \"N/A\")\n",
    "df.loc[:, \"Operator\"] = df[\"Operator\"].str.replace(\"Air by\", \"N/A\")\n",
    "df.loc[:, \"Operator\"] = df[\"Operator\"].str.replace(\"Zanex\", \"N/A\")\n",
    "df.loc[:, \"Operator\"] = df[\"Operator\"].str.replace(\"Ir\", \"Iran Air\")\n",
    "df.loc[:, \"Operator\"] = df[\"Operator\"].str.replace(\"ATI\", \"Air Transport International\")\n",
    "df.loc[:, \"Operator\"] = df[\"Operator\"].str.replace(\"Ts\", \"Air Transnat\")\n",
    "df.loc[:, \"Operator\"] = df[\"Operator\"].str.replace(\"Surrey\", \"N/A\")\n",
    "df.loc[:, \"Operator\"] = df[\"Operator\"].str.replace(\"TAN\", \"Transportes Areos Nacionales\")\n",
    "df['Operator'] = df['Operator'].replace([\"Air\"], 'N/A')"
   ]
  },
  {
   "cell_type": "code",
   "execution_count": 24,
   "id": "2f7320a5",
   "metadata": {},
   "outputs": [],
   "source": [
    "# THE COLUMN HAS NOW BEEN CLEANED AND IS NOW FREE FROM INCONSITENCIES AND ANOMALIES "
   ]
  },
  {
   "cell_type": "code",
   "execution_count": 25,
   "id": "d7a21e3a",
   "metadata": {},
   "outputs": [
    {
     "data": {
      "text/plain": [
       "array([   0,    3,   37,    8,    6,   16,    2,    1,   44,    9,    7,\n",
       "         15,   10,   58,   53,   63,    5,   33,   22,  125,   14,   11,\n",
       "         19,   24,   31,   13,   12,    4,   20,   87,   23,   35,  225,\n",
       "         85,   36,   17,   18,   32,   50,   71,   78,   25,  113,   30,\n",
       "         39,   45,   49,   29, 2750,   40])"
      ]
     },
     "execution_count": 25,
     "metadata": {},
     "output_type": "execute_result"
    }
   ],
   "source": [
    "# CLEANING OF THE GROUND COLUMN\n",
    "\n",
    "df.Ground.unique()\n",
    "\n"
   ]
  },
  {
   "cell_type": "code",
   "execution_count": 26,
   "id": "260c5a97",
   "metadata": {},
   "outputs": [],
   "source": [
    "#  THE DATA IN THE YEAR COLUMN EXHIBETED NO ANOMALIES OR OUTLIERS, MAKING IT CLEAN "
   ]
  },
  {
   "cell_type": "code",
   "execution_count": 27,
   "id": "d37561f7",
   "metadata": {},
   "outputs": [
    {
     "data": {
      "text/plain": [
       "array([  8,   9, 108,  24,  12,  18,   2,  49,  36,  29,  76,   7,   4,\n",
       "       264,   6,   1,   5,   3,  34,  35, 257,  10,  25,  13,  33, 107,\n",
       "        20,  78,  50,  55,  40,  26,  19,  15,  16, 146,  14,  17,  53,\n",
       "        37,  31,  11,  32, 126,  44,  57,   0,  21,  43,  22,  30,  23,\n",
       "        62, 112,  28,  27,  39,  46,  47,  61,  73,  83, 127, 131,  52,\n",
       "        45,  67,  96, 128, 155, 123,  54, 109,  99,  38,  63,  56, 143,\n",
       "       121,  42, 156,  70,  59,  48, 228,  69,  90,  68, 110, 154, 188,\n",
       "       520, 141,  79, 102,  41,  64, 178,  84,  65, 301,  85,  60,  82,\n",
       "       134, 170, 160,  77, 140,  72, 103,  91, 104,  94, 157,  81, 106,\n",
       "       162, 100, 180, 256,  92,  98, 259,  93, 191,  51,  87, 144,  58,\n",
       "        66, 189, 275, 117, 133,  71, 196, 148,  97,  88,  74, 176, 169,\n",
       "       213, 124,  75, 119,  89, 187,  80, 168, 163, 166, 145, 116, 290,\n",
       "       113, 230, 152, 125, 261, 298, 200, 118, 329, 101, 137, 122, 153,\n",
       "       120, 129, 132, 130, 111, 583, 150, 346, 167, 239,  95, 114, 271,\n",
       "       159, 183, 115, 225, 223, 349, 260, 181, 224, 217,  86, 174, 234,\n",
       "       171, 158, 229, 269])"
      ]
     },
     "execution_count": 27,
     "metadata": {},
     "output_type": "execute_result"
    }
   ],
   "source": [
    "# CLEANING OF THE FATALITIES(AIR) COLUMN \n",
    "\n",
    "df[\"Fatalities (air)\"].unique()"
   ]
  },
  {
   "cell_type": "code",
   "execution_count": 28,
   "id": "0c6c3544",
   "metadata": {},
   "outputs": [],
   "source": [
    "#  THE DATA IN THE YEAR COLUMN EXHIBETED NO ANOMALIES OR OUTLIERS, MAKING IT CLEAN "
   ]
  },
  {
   "cell_type": "code",
   "execution_count": 29,
   "id": "668f75f3",
   "metadata": {},
   "outputs": [
    {
     "data": {
      "text/plain": [
       "array([ 11,   9, 145,  24,  12,  18,   2,  49,  36,  29,  76,  16,   7,\n",
       "        19, 271,   6,  50,   3,   5, 264,  34,  39, 257,  10,  25,  13,\n",
       "         1,  33, 107,  35,  20,   4,  84,  58,  40,   0,  30,  22,  15,\n",
       "         8,  17,  14, 146,  27,  53,  51,  31,  26,  94, 112, 130,  44,\n",
       "        32, 100,  57,  54,  21,  43,  23,  85, 121,  28,  95, 118, 108,\n",
       "        45, 169,  37,  46, 127,  47,  82,  89,  98, 149, 131,  69, 109,\n",
       "        67,  96, 166,  78, 330, 128,  52,  88,  38,  99,  83, 103,  64,\n",
       "       143, 105, 116, 309, 147, 315,  42,  59, 156,  91,  55, 137,  48,\n",
       "       254, 190, 165,  90, 168, 110, 155, 188, 285,  72, 524, 141,  41,\n",
       "        79, 102,  63, 178,  65, 301, 160, 172,  60,  86, 304, 163, 170,\n",
       "       300,  73, 340, 239, 144,  61, 161,  62,  70, 115, 176,  56, 314,\n",
       "        92, 133, 189, 132, 104, 177, 157,  81, 198, 106,  71, 162, 393,\n",
       "       293, 180, 256, 291, 119, 111, 259, 129, 135, 191,  93,  75, 164,\n",
       "        77,  80, 274,  87, 113, 356, 298,  66, 275, 117, 174, 101, 134,\n",
       "       123, 124, 159, 196, 148, 212, 385, 152, 126, 179, 213, 158, 202,\n",
       "       187, 218, 307, 122, 142,  68, 153, 517, 199, 290, 230, 292, 203,\n",
       "       261, 200, 329, 228, 136,  74, 120, 214, 258, 644, 150, 346, 182,\n",
       "       140,  97, 167, 229, 114, 183, 225, 223, 181, 175, 349, 260, 226,\n",
       "       192, 262, 224, 217, 234, 171, 384, 269, 245, 394, 154])"
      ]
     },
     "execution_count": 29,
     "metadata": {},
     "output_type": "execute_result"
    }
   ],
   "source": [
    "# CLEANING OF THE ABOARD COLUMN\n",
    "\n",
    "df.Aboard.unique()"
   ]
  },
  {
   "cell_type": "code",
   "execution_count": 30,
   "id": "f935646d",
   "metadata": {},
   "outputs": [],
   "source": [
    "#  THE DATA IN THE YEAR COLUMN EXHIBETED NO ANOMALIES OR OUTLIERS, MAKING IT CLEAN "
   ]
  },
  {
   "cell_type": "code",
   "execution_count": 12,
   "id": "10920e2a",
   "metadata": {},
   "outputs": [
    {
     "data": {
      "text/html": [
       "<div>\n",
       "<style scoped>\n",
       "    .dataframe tbody tr th:only-of-type {\n",
       "        vertical-align: middle;\n",
       "    }\n",
       "\n",
       "    .dataframe tbody tr th {\n",
       "        vertical-align: top;\n",
       "    }\n",
       "\n",
       "    .dataframe thead th {\n",
       "        text-align: right;\n",
       "    }\n",
       "</style>\n",
       "<table border=\"1\" class=\"dataframe\">\n",
       "  <thead>\n",
       "    <tr style=\"text-align: right;\">\n",
       "      <th></th>\n",
       "      <th>Year</th>\n",
       "      <th>Quarter</th>\n",
       "      <th>Month</th>\n",
       "      <th>Day</th>\n",
       "      <th>Country/Region</th>\n",
       "      <th>Aircraft Manufacturer</th>\n",
       "      <th>Aircraft</th>\n",
       "      <th>Location</th>\n",
       "      <th>Operator</th>\n",
       "      <th>Ground</th>\n",
       "      <th>Fatalities (air)</th>\n",
       "      <th>Aboard</th>\n",
       "    </tr>\n",
       "  </thead>\n",
       "  <tbody>\n",
       "    <tr>\n",
       "      <th>0</th>\n",
       "      <td>1970</td>\n",
       "      <td>Qtr 2</td>\n",
       "      <td>April</td>\n",
       "      <td>28</td>\n",
       "      <td>N/A</td>\n",
       "      <td>de Havilland Canada</td>\n",
       "      <td>de Havilland Canada DHC 6 Twin Otter 100VH</td>\n",
       "      <td>Kainatu</td>\n",
       "      <td>Airlines Australia GuineaTrans New</td>\n",
       "      <td>0</td>\n",
       "      <td>8</td>\n",
       "      <td>11</td>\n",
       "    </tr>\n",
       "    <tr>\n",
       "      <th>1</th>\n",
       "      <td>1952</td>\n",
       "      <td>Qtr 2</td>\n",
       "      <td>April</td>\n",
       "      <td>30</td>\n",
       "      <td>N/A</td>\n",
       "      <td>Douglas</td>\n",
       "      <td>Douglas Douglas DC-3VT</td>\n",
       "      <td>Delhi</td>\n",
       "      <td>Airways IndiaDeccan</td>\n",
       "      <td>0</td>\n",
       "      <td>9</td>\n",
       "      <td>9</td>\n",
       "    </tr>\n",
       "    <tr>\n",
       "      <th>2</th>\n",
       "      <td>1973</td>\n",
       "      <td>Qtr 2</td>\n",
       "      <td>April</td>\n",
       "      <td>10</td>\n",
       "      <td>N/A</td>\n",
       "      <td>Vickers Vanguard</td>\n",
       "      <td>Vickers Vanguard 952G AXOP</td>\n",
       "      <td>Near Basel</td>\n",
       "      <td>(UK) Airlines International SwitzerlandInvicta</td>\n",
       "      <td>0</td>\n",
       "      <td>108</td>\n",
       "      <td>145</td>\n",
       "    </tr>\n",
       "    <tr>\n",
       "      <th>3</th>\n",
       "      <td>2000</td>\n",
       "      <td>Qtr 2</td>\n",
       "      <td>April</td>\n",
       "      <td>19</td>\n",
       "      <td>N/A</td>\n",
       "      <td>Antonov</td>\n",
       "      <td>Antonov AN 8TL</td>\n",
       "      <td>Pepa  -</td>\n",
       "      <td>Airlines Centrafricain</td>\n",
       "      <td>0</td>\n",
       "      <td>24</td>\n",
       "      <td>24</td>\n",
       "    </tr>\n",
       "    <tr>\n",
       "      <th>4</th>\n",
       "      <td>1946</td>\n",
       "      <td>Qtr 2</td>\n",
       "      <td>April</td>\n",
       "      <td>30</td>\n",
       "      <td>N/A</td>\n",
       "      <td>Douglas</td>\n",
       "      <td>Douglas C 47A FZ559</td>\n",
       "      <td>Pindi-Khut  -</td>\n",
       "      <td>Force Air Royal</td>\n",
       "      <td>0</td>\n",
       "      <td>12</td>\n",
       "      <td>12</td>\n",
       "    </tr>\n",
       "    <tr>\n",
       "      <th>5</th>\n",
       "      <td>1960</td>\n",
       "      <td>Qtr 2</td>\n",
       "      <td>April</td>\n",
       "      <td>14</td>\n",
       "      <td>N/A</td>\n",
       "      <td>Douglas</td>\n",
       "      <td>Douglas DC 4</td>\n",
       "      <td>Taipei -</td>\n",
       "      <td>Force Air Thai Royal</td>\n",
       "      <td>0</td>\n",
       "      <td>18</td>\n",
       "      <td>18</td>\n",
       "    </tr>\n",
       "    <tr>\n",
       "      <th>6</th>\n",
       "      <td>2024</td>\n",
       "      <td>Qtr 2</td>\n",
       "      <td>April</td>\n",
       "      <td>23</td>\n",
       "      <td>Alaska</td>\n",
       "      <td>Douglas</td>\n",
       "      <td>Douglas C-54D Skymaster N3054V</td>\n",
       "      <td>Near Fairbanks</td>\n",
       "      <td>Alaska Air Fuel</td>\n",
       "      <td>0</td>\n",
       "      <td>2</td>\n",
       "      <td>2</td>\n",
       "    </tr>\n",
       "    <tr>\n",
       "      <th>7</th>\n",
       "      <td>1958</td>\n",
       "      <td>Qtr 2</td>\n",
       "      <td>April</td>\n",
       "      <td>21</td>\n",
       "      <td>N/A</td>\n",
       "      <td>Douglas</td>\n",
       "      <td>Douglas DC 7 / F</td>\n",
       "      <td>Near Sloan 10</td>\n",
       "      <td>Nevada      Vegas Las of SW miles United Air L...</td>\n",
       "      <td>0</td>\n",
       "      <td>49</td>\n",
       "      <td>49</td>\n",
       "    </tr>\n",
       "    <tr>\n",
       "      <th>8</th>\n",
       "      <td>1997</td>\n",
       "      <td>Qtr 2</td>\n",
       "      <td>April</td>\n",
       "      <td>23</td>\n",
       "      <td>Afghanistan</td>\n",
       "      <td>Antonov</td>\n",
       "      <td>Antonov AN 26</td>\n",
       "      <td>Near Konduz Afghanistan</td>\n",
       "      <td>Force Air Republican Afghan N/A Military</td>\n",
       "      <td>0</td>\n",
       "      <td>36</td>\n",
       "      <td>36</td>\n",
       "    </tr>\n",
       "    <tr>\n",
       "      <th>9</th>\n",
       "      <td>1988</td>\n",
       "      <td>Qtr 2</td>\n",
       "      <td>April</td>\n",
       "      <td>10</td>\n",
       "      <td>Afghanistan</td>\n",
       "      <td>Antonov</td>\n",
       "      <td>Antonov AN 26</td>\n",
       "      <td>Near Mazâr-e Charif Afghanistan</td>\n",
       "      <td>Force Air Republican Afghan N/A Military</td>\n",
       "      <td>0</td>\n",
       "      <td>29</td>\n",
       "      <td>29</td>\n",
       "    </tr>\n",
       "  </tbody>\n",
       "</table>\n",
       "</div>"
      ],
      "text/plain": [
       "   Year Quarter  Month  Day Country/Region Aircraft Manufacturer  \\\n",
       "0  1970   Qtr 2  April   28            N/A   de Havilland Canada   \n",
       "1  1952   Qtr 2  April   30            N/A               Douglas   \n",
       "2  1973   Qtr 2  April   10            N/A      Vickers Vanguard   \n",
       "3  2000   Qtr 2  April   19            N/A               Antonov   \n",
       "4  1946   Qtr 2  April   30            N/A               Douglas   \n",
       "5  1960   Qtr 2  April   14            N/A               Douglas   \n",
       "6  2024   Qtr 2  April   23         Alaska               Douglas   \n",
       "7  1958   Qtr 2  April   21            N/A               Douglas   \n",
       "8  1997   Qtr 2  April   23    Afghanistan               Antonov   \n",
       "9  1988   Qtr 2  April   10    Afghanistan               Antonov   \n",
       "\n",
       "                                     Aircraft  \\\n",
       "0  de Havilland Canada DHC 6 Twin Otter 100VH   \n",
       "1                      Douglas Douglas DC-3VT   \n",
       "2                  Vickers Vanguard 952G AXOP   \n",
       "3                              Antonov AN 8TL   \n",
       "4                         Douglas C 47A FZ559   \n",
       "5                                Douglas DC 4   \n",
       "6              Douglas C-54D Skymaster N3054V   \n",
       "7                            Douglas DC 7 / F   \n",
       "8                               Antonov AN 26   \n",
       "9                               Antonov AN 26   \n",
       "\n",
       "                          Location  \\\n",
       "0                          Kainatu   \n",
       "1                            Delhi   \n",
       "2                       Near Basel   \n",
       "3                          Pepa  -   \n",
       "4                    Pindi-Khut  -   \n",
       "5                         Taipei -   \n",
       "6                   Near Fairbanks   \n",
       "7                    Near Sloan 10   \n",
       "8          Near Konduz Afghanistan   \n",
       "9  Near Mazâr-e Charif Afghanistan   \n",
       "\n",
       "                                            Operator  Ground  \\\n",
       "0                 Airlines Australia GuineaTrans New       0   \n",
       "1                                Airways IndiaDeccan       0   \n",
       "2     (UK) Airlines International SwitzerlandInvicta       0   \n",
       "3                             Airlines Centrafricain       0   \n",
       "4                                    Force Air Royal       0   \n",
       "5                               Force Air Thai Royal       0   \n",
       "6                                    Alaska Air Fuel       0   \n",
       "7  Nevada      Vegas Las of SW miles United Air L...       0   \n",
       "8           Force Air Republican Afghan N/A Military       0   \n",
       "9           Force Air Republican Afghan N/A Military       0   \n",
       "\n",
       "   Fatalities (air)  Aboard  \n",
       "0                 8      11  \n",
       "1                 9       9  \n",
       "2               108     145  \n",
       "3                24      24  \n",
       "4                12      12  \n",
       "5                18      18  \n",
       "6                 2       2  \n",
       "7                49      49  \n",
       "8                36      36  \n",
       "9                29      29  "
      ]
     },
     "execution_count": 12,
     "metadata": {},
     "output_type": "execute_result"
    }
   ],
   "source": [
    "# CHECKING TO SEE IF THE TABLE HAS BEEN CLEANED \n",
    "\n",
    "df.head(10)"
   ]
  },
  {
   "cell_type": "code",
   "execution_count": 32,
   "id": "5008ffaf",
   "metadata": {},
   "outputs": [],
   "source": [
    "# THE TABLE IS NOW CLEAN AND READY FOR USE"
   ]
  },
  {
   "cell_type": "markdown",
   "id": "11d467c2",
   "metadata": {},
   "source": [
    "## BASIC INFORMARTION "
   ]
  },
  {
   "cell_type": "code",
   "execution_count": 33,
   "id": "303df363",
   "metadata": {},
   "outputs": [
    {
     "data": {
      "text/plain": [
       "(5035, 12)"
      ]
     },
     "execution_count": 33,
     "metadata": {},
     "output_type": "execute_result"
    }
   ],
   "source": [
    "# shape \n",
    "df.shape"
   ]
  },
  {
   "cell_type": "code",
   "execution_count": 34,
   "id": "be714827",
   "metadata": {},
   "outputs": [
    {
     "data": {
      "text/plain": [
       "Index(['Year', 'Quarter', 'Month', 'Day', 'Country/Region',\n",
       "       'Aircraft Manufacturer', 'Aircraft', 'Location', 'Operator', 'Ground',\n",
       "       'Fatalities (air)', 'Aboard'],\n",
       "      dtype='object')"
      ]
     },
     "execution_count": 34,
     "metadata": {},
     "output_type": "execute_result"
    }
   ],
   "source": [
    "# columns in the data \n",
    "\n",
    "df.columns"
   ]
  },
  {
   "cell_type": "code",
   "execution_count": 36,
   "id": "046a388b",
   "metadata": {},
   "outputs": [
    {
     "data": {
      "text/plain": [
       "Year                      int64\n",
       "Quarter                  object\n",
       "Month                    object\n",
       "Day                       int64\n",
       "Country/Region           object\n",
       "Aircraft Manufacturer    object\n",
       "Aircraft                 object\n",
       "Location                 object\n",
       "Operator                 object\n",
       "Ground                    int64\n",
       "Fatalities (air)          int64\n",
       "Aboard                    int64\n",
       "dtype: object"
      ]
     },
     "execution_count": 36,
     "metadata": {},
     "output_type": "execute_result"
    }
   ],
   "source": [
    "# column types \n",
    "df.dtypes"
   ]
  },
  {
   "cell_type": "code",
   "execution_count": 38,
   "id": "f5dbcbf1",
   "metadata": {},
   "outputs": [
    {
     "data": {
      "text/plain": [
       "Year                     0\n",
       "Quarter                  0\n",
       "Month                    0\n",
       "Day                      0\n",
       "Country/Region           0\n",
       "Aircraft Manufacturer    0\n",
       "Aircraft                 0\n",
       "Location                 0\n",
       "Operator                 0\n",
       "Ground                   0\n",
       "Fatalities (air)         0\n",
       "Aboard                   0\n",
       "dtype: int64"
      ]
     },
     "execution_count": 38,
     "metadata": {},
     "output_type": "execute_result"
    }
   ],
   "source": [
    "# number of nulls in the data \n",
    "df.isnull().sum()"
   ]
  },
  {
   "cell_type": "markdown",
   "id": "6598d60c",
   "metadata": {},
   "source": [
    "# BASIC ANALYSIS ON THE DATA "
   ]
  },
  {
   "cell_type": "markdown",
   "id": "f3a1a0ad",
   "metadata": {},
   "source": [
    "## TOTAL NUMBER OF REPORTED CASES \n",
    "## 5035"
   ]
  },
  {
   "cell_type": "code",
   "execution_count": 41,
   "id": "72edae0c",
   "metadata": {},
   "outputs": [
    {
     "data": {
      "text/plain": [
       "np.int64(111872)"
      ]
     },
     "execution_count": 41,
     "metadata": {},
     "output_type": "execute_result"
    }
   ],
   "source": [
    "# TOTAL NUMBER OF FATALITIES \n",
    "\n",
    "df[\"Fatalities (air)\"].sum()"
   ]
  },
  {
   "cell_type": "markdown",
   "id": "0962ab21",
   "metadata": {},
   "source": [
    "## TOTAL NUMBER OF FATALITIES \n",
    "## 111,872"
   ]
  },
  {
   "cell_type": "code",
   "execution_count": 49,
   "id": "0a056055",
   "metadata": {},
   "outputs": [
    {
     "data": {
      "text/plain": [
       "473"
      ]
     },
     "execution_count": 49,
     "metadata": {},
     "output_type": "execute_result"
    }
   ],
   "source": [
    "# TOTAL NUMBER OF COUNTRIES AFFECTED \n",
    "\n",
    "df[\"Country/Region\"].nunique()"
   ]
  },
  {
   "cell_type": "markdown",
   "id": "ca3460a8",
   "metadata": {},
   "source": [
    "## TOTAL NUMBER OF COUNTRIES/REGIONS AFFECTED \n",
    "## 473"
   ]
  },
  {
   "cell_type": "code",
   "execution_count": 50,
   "id": "abc97537",
   "metadata": {},
   "outputs": [
    {
     "data": {
      "text/plain": [
       "np.int64(156625)"
      ]
     },
     "execution_count": 50,
     "metadata": {},
     "output_type": "execute_result"
    }
   ],
   "source": [
    "## THE TOTAL NUMBER OF PEOPLE ABOARD \n",
    "\n",
    "df.Aboard.sum()"
   ]
  },
  {
   "cell_type": "markdown",
   "id": "637b1a1b",
   "metadata": {},
   "source": [
    "## TOTAL NUMBER OF PEOPLE ABOARD \n",
    "## 156,625"
   ]
  },
  {
   "cell_type": "markdown",
   "id": "2f2d1ddb",
   "metadata": {},
   "source": [
    "## TOTAL NUMBER OF PEOPLE WHO SURVIVED \n",
    "## 44,753"
   ]
  },
  {
   "cell_type": "markdown",
   "id": "83eb3aa4",
   "metadata": {},
   "source": [
    "  \n",
    "\n",
    "."
   ]
  },
  {
   "cell_type": "markdown",
   "id": "c59c0336",
   "metadata": {},
   "source": [
    "."
   ]
  },
  {
   "cell_type": "markdown",
   "id": "c3c62804",
   "metadata": {},
   "source": [
    "."
   ]
  },
  {
   "cell_type": "markdown",
   "id": "da4421fb",
   "metadata": {},
   "source": [
    "."
   ]
  },
  {
   "cell_type": "markdown",
   "id": "2e58d1a0",
   "metadata": {},
   "source": [
    "."
   ]
  },
  {
   "cell_type": "markdown",
   "id": "57a21210",
   "metadata": {},
   "source": [
    "# RESEARCH AND DATA ANALYSIS"
   ]
  },
  {
   "cell_type": "code",
   "execution_count": 52,
   "id": "b8ec5f4f",
   "metadata": {},
   "outputs": [
    {
     "data": {
      "text/plain": [
       "Country/Region\n",
       "N/A           480\n",
       "Russia        249\n",
       "Brazil        166\n",
       "Colombia      146\n",
       "California    113\n",
       "Name: count, dtype: int64"
      ]
     },
     "execution_count": 52,
     "metadata": {},
     "output_type": "execute_result"
    }
   ],
   "source": [
    "# TOP 5 COUNTRIES WITH THE HIGHEST CRASHES\n",
    "\n",
    "df[\"Country/Region\"].value_counts().head(5)"
   ]
  },
  {
   "cell_type": "code",
   "execution_count": 55,
   "id": "04345e44",
   "metadata": {},
   "outputs": [
    {
     "data": {
      "text/plain": [
       "Quarter\n",
       "Qtr 4    1368\n",
       "Qtr 3    1333\n",
       "Qtr 1    1256\n",
       "Qtr 2    1078\n",
       "Name: count, dtype: int64"
      ]
     },
     "execution_count": 55,
     "metadata": {},
     "output_type": "execute_result"
    }
   ],
   "source": [
    "# Quater of the year which aircrashes occur the most\n",
    "\n",
    "df.Quarter.value_counts()"
   ]
  },
  {
   "cell_type": "code",
   "execution_count": 56,
   "id": "b2b569d5",
   "metadata": {},
   "outputs": [
    {
     "data": {
      "text/plain": [
       "Aircraft Manufacturer\n",
       "Douglas                996\n",
       "Boeing                 388\n",
       "Antonov                284\n",
       "Lockheed               211\n",
       "de Havilland Canada    157\n",
       "Name: count, dtype: int64"
      ]
     },
     "execution_count": 56,
     "metadata": {},
     "output_type": "execute_result"
    }
   ],
   "source": [
    "# AIRCRAFT OPERATORS WITH THE MOST RECORDED CASES \n",
    "\n",
    "df[\"Aircraft Manufacturer\"].value_counts().head(5)"
   ]
  },
  {
   "cell_type": "code",
   "execution_count": 57,
   "id": "60abb8a6",
   "metadata": {},
   "outputs": [
    {
     "data": {
      "text/plain": [
       "Operator\n",
       "N/A                            279\n",
       "Aeroflot                       188\n",
       "Force Air U.S. N/A Military     92\n",
       "Lufthansa Deutsche              57\n",
       "France Air                      57\n",
       "Name: count, dtype: int64"
      ]
     },
     "execution_count": 57,
     "metadata": {},
     "output_type": "execute_result"
    }
   ],
   "source": [
    "# AIRCRAFT OPERATOR WITH THE MOST AIRCRASHES \n",
    "\n",
    "df.Operator.value_counts().head(5)"
   ]
  },
  {
   "cell_type": "code",
   "execution_count": 60,
   "id": "914f6247",
   "metadata": {},
   "outputs": [
    {
     "data": {
      "text/plain": [
       "Aircraft\n",
       "Boeing B 737              73\n",
       "Boeing B 727              57\n",
       "Boeing B 707              51\n",
       "McDonnell Douglas DC 9    42\n",
       "Douglas C 47A             40\n",
       "Name: count, dtype: int64"
      ]
     },
     "execution_count": 60,
     "metadata": {},
     "output_type": "execute_result"
    }
   ],
   "source": [
    "# AIRCRAFT WITH THE MOST REPORTED CASES \n",
    "\n",
    "df.Aircraft.value_counts().head()"
   ]
  },
  {
   "cell_type": "code",
   "execution_count": 58,
   "id": "ce51ada5",
   "metadata": {},
   "outputs": [],
   "source": [
    "# THE RATE OF WHICH AIRCRAF CRASHES HAVE BEEN HAPPENIN BY THE DECADE \n",
    "\n",
    "# FIRSTLY I NEED TO CREATE A BIN FOR A NEW COLUMN NAMED DECADES \n",
    "\n",
    "# Set min and max year for bins\n",
    "min_year = df['Year'].min()\n",
    "max_year = df['Year'].max()\n",
    "\n",
    "# Create bin edges: every 10 years from min to max\n",
    "bins = list(range((min_year // 10) * 10, (max_year // 10 + 1) * 10 + 1, 10))\n",
    "\n",
    "\n",
    "labels = [f\"{b}s\" for b in bins[:-1]]\n",
    "\n",
    "df['Decade'] = pd.cut(df['Year'], bins=bins, labels=labels, right=False)\n"
   ]
  },
  {
   "cell_type": "code",
   "execution_count": 59,
   "id": "b4aaa104",
   "metadata": {},
   "outputs": [
    {
     "data": {
      "image/png": "[encoded data removed]",
      "text/plain": [
       "<Figure size 800x500 with 1 Axes>"
      ]
     },
     "metadata": {},
     "output_type": "display_data"
    }
   ],
   "source": [
    "# A CHART TO SHOW THIS INFORMATION \n",
    "\n",
    "\n",
    "plt.figure(figsize=(8, 5))\n",
    "plt.plot(df.Decade.value_counts().sort_index(), color='black')\n",
    "plt.title(\"numbers of reported aircrashes by decade\")\n",
    "plt.xlabel(\"Decade\")\n",
    "plt.ylabel(\"Count\")\n",
    "plt.grid(True)\n",
    "plt.show()"
   ]
  },
  {
   "cell_type": "code",
   "execution_count": null,
   "id": "9ec8ec5c",
   "metadata": {},
   "outputs": [],
   "source": [
    "# THE SEASON THAT AIRCRAFT CRASHES OFTEN OCCUE IN OR OCCUR THE MOST IN \n",
    "\n",
    "# FIRSTLY I NEED TO CREATE A BIN TO GET A NEW COLUMN NAMED SEASON\n",
    "\n",
    "def get_season(Month):\n",
    "    if Month in [\"December\", \"January\", \"Febuary\"]:\n",
    "        return 'Winter'\n",
    "    elif Month in [\"March\", \"April\", \"May\"]:\n",
    "        return 'Spring'\n",
    "    elif Month in [\"June\", \"July\", \"August\"]:\n",
    "        return 'Summer'\n",
    "    elif Month in [\"September\", 'October', \"November\"]:\n",
    "        return 'Fall'\n",
    "\n",
    "df['Season'] = df['Month'].apply(get_season)\n"
   ]
  },
  {
   "cell_type": "code",
   "execution_count": 63,
   "id": "f869533c",
   "metadata": {},
   "outputs": [
    {
     "data": {
      "text/plain": [
       "<Axes: xlabel='Season'>"
      ]
     },
     "execution_count": 63,
     "metadata": {},
     "output_type": "execute_result"
    },
    {
     "data": {
      "image/png": "[encoded data removed]",
      "text/plain": [
       "<Figure size 640x480 with 1 Axes>"
      ]
     },
     "metadata": {},
     "output_type": "display_data"
    }
   ],
   "source": [
    "# A CHART TO SHOW THE DATA \n",
    "\n",
    "df.Season.value_counts().plot(kind = \"bar\")"
   ]
  },
  {
   "cell_type": "code",
   "execution_count": 64,
   "id": "359f9023",
   "metadata": {},
   "outputs": [
    {
     "data": {
      "text/plain": [
       "<Axes: xlabel='Month'>"
      ]
     },
     "execution_count": 64,
     "metadata": {},
     "output_type": "execute_result"
    },
    {
     "data": {
      "image/png": "[encoded data removed]",
      "text/plain": [
       "<Figure size 640x480 with 1 Axes>"
      ]
     },
     "metadata": {},
     "output_type": "display_data"
    }
   ],
   "source": [
    "# THE MONTH WITH THE MOST REPORTED CASES \n",
    "\n",
    "df.Month.value_counts().plot(kind = \"bar\")"
   ]
  },
  {
   "cell_type": "code",
   "execution_count": 65,
   "id": "6a3ac831",
   "metadata": {},
   "outputs": [],
   "source": [
    "# NOW WE WANT TO FIND THE RELATIONSHIP BETWEEN THE TOTAL FATALITY RATE AND PARTIAL FATALITY RATE AND THE TOTAL SURVIVAL RATE \n",
    "# WE WANT TO KNOW WHAT PERCENTAGE TOTALY SURVIVED TO THE ONES WHO PARTIALLY SUVIVED (THAT IS SOME CAME OUT OF THE CRASH UNSCATHED) AND THE CRASHES THAT HAVE A TOTAL\n",
    "# SURVIVAL RATE (THAT IS WHEN THE CRASH HAPPENED EVERY ONE CAME OUT UNSCATHED)\n",
    "\n",
    "\n",
    "# FIRSTLY WE NEED TO CREATE A TABLE FOR THE NUMBER OF PEOPLE THAT SURVIVED \n",
    "\n",
    "df['Survivors'] = df['Aboard'] - df['Fatalities (air)']\n",
    "\n",
    "# THEN WE NEED TO CREATE A COLUMN NAMED FATALITY(GROUPING) TO DO THAT WE NEED TO CREATE BINS FROM THE SURVVORS COLUMN, ABOARD COLUMN AND FATALITIES COLUMN \n",
    "\n",
    "def categorize_fatality(row):\n",
    "    if row['Fatalities (air)'] == row['Aboard']:\n",
    "        return 'Total Fatality'\n",
    "    elif row['Fatalities (air)'] == 0:\n",
    "        return 'Total Survival'\n",
    "    else:\n",
    "        return 'Non-Total Fatality'\n",
    "\n",
    "df['Fatality_Bin'] = df.apply(categorize_fatality, axis=1)\n",
    "\n"
   ]
  },
  {
   "cell_type": "code",
   "execution_count": null,
   "id": "1b87cbcc",
   "metadata": {},
   "outputs": [
    {
     "data": {
      "image/png": "[encoded data removed]",
      "text/plain": [
       "<Figure size 600x600 with 1 Axes>"
      ]
     },
     "metadata": {},
     "output_type": "display_data"
    }
   ],
   "source": [
    "# NOW TO SHOW THE RELATIONSHIP WE USE THE PIE CHART\n",
    "\n",
    "bin_counts = df['Fatality_Bin'].value_counts()\n",
    "plt.figure(figsize=(6,6))\n",
    "plt.pie(\n",
    "    bin_counts.values, \n",
    "    labels=bin_counts.index,  \n",
    "    colors=['red', 'lightgreen', 'blue'],\n",
    "    autopct='%1.1f%%', \n",
    "    wedgeprops={'edgecolor': 'black'}\n",
    ")\n",
    "plt.title('AIR CRASHES FATALITY RATE'\\\\\n",
    "          \n",
    "plt.show() \n",
    "\n"
   ]
  },
  {
   "cell_type": "code",
   "execution_count": 14,
   "id": "763575f0",
   "metadata": {},
   "outputs": [
    {
     "name": "stderr",
     "output_type": "stream",
     "text": [
      ") missing from font(s) DejaVu Sans.nv\\Lib\\site-packages\\seaborn\\utils.py:61: UserWarning: Glyph 13 (\n",
      "  fig.canvas.draw()\n",
      ") missing from font(s) DejaVu Sans.nv\\Lib\\site-packages\\IPython\\core\\pylabtools.py:170: UserWarning: Glyph 13 (\n",
      "  fig.canvas.print_figure(bytes_io, **kw)\n"
     ]
    },
    {
     "data": {
      "image/png": "[encoded data removed]",
      "text/plain": [
       "<Figure size 1800x1000 with 2 Axes>"
      ]
     },
     "metadata": {},
     "output_type": "display_data"
    }
   ],
   "source": [
    "# to make the heat map \n",
    "\n",
    "\n",
    "# Creating a pivot table \n",
    "heat_data = df.pivot_table(\n",
    "    index='Country/Region',\n",
    "    columns='Year',\n",
    "    values='Fatalities (air)',\n",
    "    aggfunc='sum',\n",
    "    fill_value=0\n",
    ")\n",
    "\n",
    "\n",
    "# plotting heat map\n",
    "plt.figure(figsize=(18, 10))\n",
    "sns.heatmap(heat_data, cmap='Reds', linewidths=0.5, linecolor='gray')\n",
    "\n",
    "plt.title('Heatmap of Fatalities by Country and Year', fontsize=16)\n",
    "plt.xlabel('Year')\n",
    "plt.ylabel('Country/Region')\n",
    "plt.tight_layout()\n",
    "plt.show()\n"
   ]
  },
  {
   "cell_type": "code",
   "execution_count": 14,
   "id": "a6b2dc51",
   "metadata": {},
   "outputs": [],
   "source": [
    "# IT IS UNREADABLE HERE BUT WHEN YOU USE THE APP ENVIRONMENT YOU WILL BE ABLE TO USE AND NAVIGATE IT WELL \n"
   ]
  },
  {
   "cell_type": "markdown",
   "id": "e0620154",
   "metadata": {},
   "source": [
    "# INSIGHTS AND OBSERVATIONS "
   ]
  },
  {
   "cell_type": "markdown",
   "id": "a7229aa1",
   "metadata": {},
   "source": [
    "# Exploratory Data Analysis (EDA) on AIRCRAFT AIRCRASH ANALYSIS (1908 - 2024)\n",
    "### Introduction \n",
    "Based on the data provided from “aircraftFullDataUpdated_2024.csv” I conducted an Exploratory Data Analysis to uncover patterns, trends, and insights about air crashes from 1908 till 2024.\n",
    "\n",
    "## Data Overview\n",
    "The dataset contains information about air crashes worldwide, including:\n",
    "-\tDate of these accidents (year, Month Day, Quarter, Decade, Season)\n",
    "-\tCountry or Region\n",
    "-\tAircraft Manufacturer \n",
    "-\tAircraft \n",
    "-\tAircraft Operator\n",
    "-\tFatalities (Ground, Air)\n",
    "-\tTotal Aboard\n",
    "-\tSurvivor\n",
    "\n",
    "## Decades Trends\n",
    "From the Time-series visualization:\n",
    "-\t-\tAir crashes show a general downward trend since the 1970s despite increase in air traffic in relation to population increase.\n",
    "-\tPeak years for accidents appear to be in the 1950s – 1960s with the total air-crashes of 653 and 652 respectively.\n",
    "-\tAnd a second peak in the 1990s with a total of 633 air-crashes with factors that included maintenance issues, pilot errors, weather conditions etc. which paved way for increase stricter safer airplane policies that made a significant decrease in air-crashes in the 2000s.\n",
    "-\tSignificant improvement in safety since the 2000s therefore a significance decrease which is a 95.285% decrease.\n",
    "\n",
    "## Seasonal Patterns\n",
    "-\tthe season with the highest air-crashes is winter with a total of 1,326, which is slightly above the fall season with a total of 1,324 this is due to major factors like very harsh weather conditions, like now storms, heavy rainfalls, snow storms and hail storms.\n",
    "-\tthe lowest season was the spring with 1,138 followed with the season of summer with 1,247 air-crashes.\n",
    "-\tNo strong monthly seasonality apparent.\n",
    "\n",
    "## Monthly Patterns \n",
    "-\tHighest Crash Incidence in December: December has the highest number of air crashes with 497 air-crashes recorded which could be linked to holiday travel surges, bad winter weather, and hectic flight schedules.\n",
    "-\tWinter Months Dominate the Chart: December, January, and September top the list months that often involve: Seasonal transitions, Heavy passenger traffic, Weather volatility (snowstorms, fog, etc.)\n",
    "-\tApril is the Safest Month.\n",
    "\n",
    "## By Country/Region\n",
    "-\tHigh-risk areas appear to include: Southeast Asia, Northern South America, Central Africa.\n",
    "-\tDeveloped regions with high air traffic (North America, Western Europe) show relatively fewer accidents per flight volume.\n",
    "-\tRussia has the most accidents in absolute numbers with a total of 249 (due to high air traffic and war).\n",
    "-\tSome developing nations show higher accident rates per flight.\n",
    "NOTE: a number of 480 air-crashes from unknown Countries/Regions were recorded.\n",
    "\n",
    "\n",
    "## By Aircraft Type\n",
    "-\tOlder aircraft models appear more frequently in accident data.\n",
    "-\tMilitary aircraft appear in a significant portion of accidents.\n",
    "\n",
    "## By Operator\n",
    "-\tCargo and private operations have higher accident rates.\n",
    "-\tMilitary operations account for a notable percentage.\n",
    "-\tCommercial airlines show improving safety records.\n",
    "\n",
    "## Fatality Trends\n",
    "-\tDespite decreasing accident numbers, individual accidents can be catastrophic (high fatality events still occur).\n",
    "-\tAverage fatalities per accident may be increasing due to larger aircraft.\n",
    "\n",
    "\n",
    "## Fatality Rate \n",
    "From the pie chart a lot can be derived: \n",
    "-\tHigh Risk of Total Fatality: 63.7% of air crashes result in total fatalities, meaning no survivors. This suggests that when an air crash is severe, it’s highly likely to be fatal for everyone on board. \n",
    "-\tProportion of Partial Survival: 34.9% of incidents result in non-total fatalities, meaning some people survive. This shows that not all crashes are completely deadly  there's a one-in-three chance of partial survival.\n",
    "-\tTotal Survival is Extremely Rare: Only 1.4% of crashes result in everyone surviving. This emphasizes how rare it is for an air crash to be entirely non-fatal.\n",
    "\n",
    "## Key Insights\n",
    "1.\tSafety Improvements: Aviation has become significantly safer over time despite increased traffic.\n",
    "2.\tRegional Disparities: Developing regions show higher accident rates, suggesting infrastructure and regulation play key roles.\n",
    "3.\tHuman Factors: Remain the dominant contributor to accidents despite technological advances.\n",
    "\n",
    "## This EDA suggests that while air travel has become remarkably safe, targeted improvements in training, maintenance, and infrastructure could further reduce accidents, particularly in developing aviation markets.\n",
    "\n",
    "\n"
   ]
  }
 ],
 "metadata": {
  "kernelspec": {
   "display_name": "appenv",
   "language": "python",
   "name": "python3"
  },
  "language_info": {
   "codemirror_mode": {
    "name": "ipython",
    "version": 3
   },
   "file_extension": ".py",
   "mimetype": "text/x-python",
   "name": "python",
   "nbconvert_exporter": "python",
   "pygments_lexer": "ipython3",
   "version": "3.13.2"
  }
 },
 "nbformat": 4,
 "nbformat_minor": 5
}
